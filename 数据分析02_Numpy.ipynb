{
  "nbformat": 4,
  "nbformat_minor": 0,
  "metadata": {
    "colab": {
      "name": "数据分析02-Numpy.ipynb",
      "provenance": [],
      "collapsed_sections": [],
      "authorship_tag": "ABX9TyNg3zGvRdBm4tVphOImtNCw",
      "include_colab_link": true
    },
    "kernelspec": {
      "name": "python3",
      "display_name": "Python 3"
    },
    "language_info": {
      "name": "python"
    }
  },
  "cells": [
    {
      "cell_type": "markdown",
      "metadata": {
        "id": "view-in-github",
        "colab_type": "text"
      },
      "source": [
        "<a href=\"https://colab.research.google.com/github/Simon006/python_for_data_analysis_note/blob/main/%E6%95%B0%E6%8D%AE%E5%88%86%E6%9E%9002_Numpy.ipynb\" target=\"_parent\"><img src=\"https://colab.research.google.com/assets/colab-badge.svg\" alt=\"Open In Colab\"/></a>"
      ]
    },
    {
      "cell_type": "markdown",
      "source": [
        "#Numpy的ndarray\n",
        "- > ndarray是一种多维数组对象，是一个快速而灵活的大数据集容器，它是一个通用的**同构数据多维容器**，其中的元素必须同类型，每个数组都有一个shape（一个表示各维度大小的元组）和一个dtype（一个用于说明数组数据类型的对象）：\n",
        "\n",
        "- >创建数组对简单的办法就是使用np.array( )方法，输入一切序列行对象，然后产生一个新的含有传入数据的NumPy数组。\n",
        "\n",
        "- >np.array( )会尝试为新建的数组推断出一个较为合适的数据类型。"
      ],
      "metadata": {
        "id": "bfoj1684U8U0"
      }
    },
    {
      "cell_type": "code",
      "execution_count": null,
      "metadata": {
        "colab": {
          "base_uri": "https://localhost:8080/"
        },
        "id": "brxBLVacU086",
        "outputId": "787b467d-1521-4792-d23f-995275fb1f05"
      },
      "outputs": [
        {
          "output_type": "stream",
          "name": "stdout",
          "text": [
            "CPU times: user 17.7 ms, sys: 6.12 ms, total: 23.8 ms\n",
            "Wall time: 27.3 ms\n",
            "CPU times: user 738 ms, sys: 187 ms, total: 924 ms\n",
            "Wall time: 933 ms\n"
          ]
        }
      ],
      "source": [
        "import numpy as np\n",
        "\n",
        "my_arr = np.arange(1000000)\n",
        "my_list = list(range(1000000))\n",
        "\n",
        "%time for _ in range(10): my_arr2 = my_arr * 2\n",
        "\n",
        "%time for _ in range(10): my_list2 = [x * 2 for x in my_list]\n",
        "\n",
        "#基于NumPy的算法要比纯Python快10到100倍（甚至更快），并且使用的内存更少"
      ]
    },
    {
      "cell_type": "code",
      "source": [
        "data1 = [6, 7.5, 8, 0, 1]\n",
        "arr1 = np.array(data1)\n",
        "\n",
        "data2 = [[1, 2, 3, 4], [5, 6, 7, 8]]\n",
        "arr2 = np.array(data2)\n",
        "\n",
        "print(arr1.ndim)\n",
        "print(arr1.shape)\n",
        "print(arr1.dtype)\n",
        "print(arr2.ndim)\n",
        "print(arr2.shape)\n",
        "print(arr2.dtype)\n",
        "#从arr1和arr2的dtpye发现np.array()主动为数据适配数据类型"
      ],
      "metadata": {
        "colab": {
          "base_uri": "https://localhost:8080/"
        },
        "id": "ReykqAmHXARB",
        "outputId": "ec84f8ad-b04e-4327-e98f-3a34853a29cd"
      },
      "execution_count": null,
      "outputs": [
        {
          "output_type": "stream",
          "name": "stdout",
          "text": [
            "1\n",
            "(5,)\n",
            "float64\n",
            "2\n",
            "(2, 4)\n",
            "int64\n"
          ]
        }
      ]
    },
    {
      "cell_type": "markdown",
      "source": [
        "- > np的zeros和ones方法分别创建指定长度或形状的全零和全一数组。empty可以创建一个没有任何具体值的数组。np.empty( )会返回一些未初始化的垃圾值，认为他会返回全0数组的想法是不安全的。"
      ],
      "metadata": {
        "id": "t134hhDVX5MF"
      }
    },
    {
      "cell_type": "code",
      "source": [
        "np.empty((2,3,2))\n",
        "#显然empty输出的并不是全零值得数组"
      ],
      "metadata": {
        "colab": {
          "base_uri": "https://localhost:8080/"
        },
        "id": "1Bl6Zx2cXlLE",
        "outputId": "39707cca-3452-4e82-bed6-3a1f923c84d6"
      },
      "execution_count": null,
      "outputs": [
        {
          "output_type": "execute_result",
          "data": {
            "text/plain": [
              "array([[[1.68502e-316, 0.00000e+000],\n",
              "        [0.00000e+000, 0.00000e+000],\n",
              "        [0.00000e+000, 0.00000e+000]],\n",
              "\n",
              "       [[0.00000e+000, 0.00000e+000],\n",
              "        [0.00000e+000, 0.00000e+000],\n",
              "        [0.00000e+000, 0.00000e+000]]])"
            ]
          },
          "metadata": {},
          "execution_count": 4
        }
      ]
    },
    {
      "cell_type": "markdown",
      "source": [
        "#ndarray\n",
        "ndarray的数组如果是对二维数组单索引，那么返回行向量，对多维数组单索引，返回维度低一级的ndarray\n",
        "\n"
      ],
      "metadata": {
        "id": "g8DF8pM4oIbn"
      }
    },
    {
      "cell_type": "code",
      "source": [
        "arr2d = np.array([[1,2,3],[4,5,6],[7,8,9]])\n",
        "print(arr2d[2])\n",
        "print(arr2d[0][2])\n",
        "print(arr2d[0,2])\n",
        "#两种等价索引方式"
      ],
      "metadata": {
        "colab": {
          "base_uri": "https://localhost:8080/"
        },
        "id": "amUCWazqYj8y",
        "outputId": "757dfae8-3bd9-46b4-a73d-27694e32e0d5"
      },
      "execution_count": null,
      "outputs": [
        {
          "output_type": "stream",
          "name": "stdout",
          "text": [
            "[7 8 9]\n",
            "3\n",
            "3\n"
          ]
        }
      ]
    },
    {
      "cell_type": "code",
      "source": [
        "#注意赋值中的广播机制\n",
        "arr2d[0]=12\n",
        "print(arr2d)"
      ],
      "metadata": {
        "colab": {
          "base_uri": "https://localhost:8080/"
        },
        "id": "kgm3TddBn0Y6",
        "outputId": "8ad21705-0a4f-43f4-c7e7-9ee07aec3a10"
      },
      "execution_count": null,
      "outputs": [
        {
          "output_type": "stream",
          "name": "stdout",
          "text": [
            "[[12 12 12]\n",
            " [ 4  5  6]\n",
            " [ 7  8  9]]\n"
          ]
        }
      ]
    },
    {
      "cell_type": "markdown",
      "source": [
        "- > ndarray具有相当强大的切片功能，可以进行多维度切片索引。"
      ],
      "metadata": {
        "id": "vBf7D2X2pD7G"
      }
    },
    {
      "cell_type": "code",
      "source": [
        "arr2d[:2,1:]"
      ],
      "metadata": {
        "colab": {
          "base_uri": "https://localhost:8080/"
        },
        "id": "R2K2VvsGo6PR",
        "outputId": "cd4d5ce5-fe9c-4d36-891e-1f6cdc9cac14"
      },
      "execution_count": null,
      "outputs": [
        {
          "output_type": "execute_result",
          "data": {
            "text/plain": [
              "array([[12, 12],\n",
              "       [ 5,  6]])"
            ]
          },
          "metadata": {},
          "execution_count": 7
        }
      ]
    },
    {
      "cell_type": "markdown",
      "source": [
        "#花式索引\n",
        "指利用证书数组进行索引\n"
      ],
      "metadata": {
        "id": "ROW6Zp2QqMdA"
      }
    },
    {
      "cell_type": "code",
      "source": [
        "arr1 = np.arange(32).reshape((8,4))\n",
        "print(arr1)"
      ],
      "metadata": {
        "colab": {
          "base_uri": "https://localhost:8080/"
        },
        "id": "gKl_qHi0pUUi",
        "outputId": "6815136b-959b-47c3-f66a-8486cd6e2a58"
      },
      "execution_count": null,
      "outputs": [
        {
          "output_type": "stream",
          "name": "stdout",
          "text": [
            "[[ 0  1  2  3]\n",
            " [ 4  5  6  7]\n",
            " [ 8  9 10 11]\n",
            " [12 13 14 15]\n",
            " [16 17 18 19]\n",
            " [20 21 22 23]\n",
            " [24 25 26 27]\n",
            " [28 29 30 31]]\n"
          ]
        }
      ]
    },
    {
      "cell_type": "markdown",
      "source": [
        "- >不论数组是多少维的花式索引总是一维的"
      ],
      "metadata": {
        "id": "LRrDU0j4q3L4"
      }
    },
    {
      "cell_type": "code",
      "source": [
        "#花式索引\n",
        "arr1[[1,5,7,2]][:,[0,3,1,2]]\n"
      ],
      "metadata": {
        "colab": {
          "base_uri": "https://localhost:8080/"
        },
        "id": "7EbnaJ3HqkXs",
        "outputId": "9c369f64-e7fb-47e2-cefd-08b9b28b4551"
      },
      "execution_count": null,
      "outputs": [
        {
          "output_type": "execute_result",
          "data": {
            "text/plain": [
              "array([[ 4,  7,  5,  6],\n",
              "       [20, 23, 21, 22],\n",
              "       [28, 31, 29, 30],\n",
              "       [ 8, 11,  9, 10]])"
            ]
          },
          "metadata": {},
          "execution_count": 9
        }
      ]
    },
    {
      "cell_type": "markdown",
      "source": [
        "- >通过下面代码我们可以更清晰的了解到花式索引是一维的是什么意思，我们单次索引只对某一个特定的维度进行，需要多维度操作的时候就需要如上式，单独对行和列进行操作，还有善用\"**：**\"符号进行花式索引维度的指定。"
      ],
      "metadata": {
        "id": "k0FJD8wnreDc"
      }
    },
    {
      "cell_type": "code",
      "source": [
        "a = arr1[[1,5,7,2]][[0,3,1,2]]\n",
        "b = arr1[[1,5,7,2]]\n",
        "print(a)\n",
        "print(b)\n",
        "print(a==b)\n"
      ],
      "metadata": {
        "colab": {
          "base_uri": "https://localhost:8080/"
        },
        "id": "RJiVGtAqqyDD",
        "outputId": "5f91bacb-f4ea-40b9-df28-41408c931835"
      },
      "execution_count": null,
      "outputs": [
        {
          "output_type": "stream",
          "name": "stdout",
          "text": [
            "[[ 4  5  6  7]\n",
            " [ 8  9 10 11]\n",
            " [20 21 22 23]\n",
            " [28 29 30 31]]\n",
            "[[ 4  5  6  7]\n",
            " [20 21 22 23]\n",
            " [28 29 30 31]\n",
            " [ 8  9 10 11]]\n",
            "[[ True  True  True  True]\n",
            " [False False False False]\n",
            " [False False False False]\n",
            " [False False False False]]\n"
          ]
        }
      ]
    },
    {
      "cell_type": "markdown",
      "source": [
        "#条件逻辑表述为数组运算\n",
        "可以通过列表推导式按如下写法，但下面写法对大数组的处理不够快（所有工作由纯python完成）"
      ],
      "metadata": {
        "id": "UtBcdckG6wID"
      }
    },
    {
      "cell_type": "code",
      "source": [
        "xarr = np.array([1.1,1.2,1.3,1.4,1.5])\n",
        "yarr = np.array([2.1,2.2,2.3,2.4,2.5])\n",
        "cond = np.array([True,False,True,False,True])\n",
        "\n",
        "result = [(x if c else y) for x,y,c in zip(xarr,yarr,cond)]\n",
        "#注意上面的zip函数让他们变成一个字典之后再拆包就可以实现单个对应元素之间的比较了\n",
        "\n",
        "print(result)"
      ],
      "metadata": {
        "colab": {
          "base_uri": "https://localhost:8080/"
        },
        "id": "iMJhY_Xg6vX8",
        "outputId": "4d739b03-f5af-465a-97c7-9cc891da8e4a"
      },
      "execution_count": null,
      "outputs": [
        {
          "output_type": "stream",
          "name": "stdout",
          "text": [
            "[1.1, 2.2, 1.3, 2.4, 1.5]\n"
          ]
        }
      ]
    },
    {
      "cell_type": "markdown",
      "source": [
        "#np.where\n",
        "使用np.where可以利用numpy的多维数组，使得运算速度大大提升,但需要注意的是where语法当中，将condition放在第一个参数位。"
      ],
      "metadata": {
        "id": "0VfTeatl8KTP"
      }
    },
    {
      "cell_type": "code",
      "source": [
        "np.where(cond,xarr,yarr)"
      ],
      "metadata": {
        "id": "bXQPGkjurA1_",
        "colab": {
          "base_uri": "https://localhost:8080/"
        },
        "outputId": "564e5f20-5a31-4936-ae35-69575168e2e3"
      },
      "execution_count": null,
      "outputs": [
        {
          "output_type": "execute_result",
          "data": {
            "text/plain": [
              "array([1.1, 2.2, 1.3, 2.4, 1.5])"
            ]
          },
          "metadata": {},
          "execution_count": 16
        }
      ]
    },
    {
      "cell_type": "markdown",
      "source": [
        "再举一个例子"
      ],
      "metadata": {
        "id": "ZTxep1sg89ia"
      }
    },
    {
      "cell_type": "code",
      "source": [
        "arr1 = np.random.randn(5,6)\n",
        "arr2 = np.where(arr1>0,arr1,0)\n",
        "#对所有数据进行relu激活函数\n",
        "print(\"arr1:\",arr1)\n",
        "print(\"arr2:\",arr2)\n",
        "print((arr1).astype(int))\n",
        "print((arr2).astype(int))"
      ],
      "metadata": {
        "colab": {
          "base_uri": "https://localhost:8080/"
        },
        "id": "noKxy3OW88uE",
        "outputId": "85ea7fce-5289-46fa-c65a-2a73fe5c19bb"
      },
      "execution_count": null,
      "outputs": [
        {
          "output_type": "stream",
          "name": "stdout",
          "text": [
            "arr1: [[-0.39729117 -1.65135006 -0.05192883 -0.18561128 -0.73025349 -0.04092484]\n",
            " [ 1.46547979 -0.00289345  1.22740627 -0.75631624  0.80038431  2.02204031]\n",
            " [-1.38568325 -0.22609963 -1.22903745  1.23399336 -2.04111777 -2.28187277]\n",
            " [ 1.31408043  0.47771569  1.06729681  0.77670745 -0.58168832 -0.37409586]\n",
            " [ 0.05397773  0.81200366  1.39982699 -1.2418583  -0.66324946  1.26284985]]\n",
            "arr2: [[0.         0.         0.         0.         0.         0.        ]\n",
            " [1.46547979 0.         1.22740627 0.         0.80038431 2.02204031]\n",
            " [0.         0.         0.         1.23399336 0.         0.        ]\n",
            " [1.31408043 0.47771569 1.06729681 0.77670745 0.         0.        ]\n",
            " [0.05397773 0.81200366 1.39982699 0.         0.         1.26284985]]\n",
            "[[ 0 -1  0  0  0  0]\n",
            " [ 1  0  1  0  0  2]\n",
            " [-1  0 -1  1 -2 -2]\n",
            " [ 1  0  1  0  0  0]\n",
            " [ 0  0  1 -1  0  1]]\n",
            "[[0 0 0 0 0 0]\n",
            " [1 0 1 0 0 2]\n",
            " [0 0 0 1 0 0]\n",
            " [1 0 1 0 0 0]\n",
            " [0 0 1 0 0 1]]\n"
          ]
        }
      ]
    },
    {
      "cell_type": "code",
      "source": [
        "print(arr1.mean())\n",
        "print(np.mean(arr1))\n",
        "print(arr1.sum())\n",
        "#sum(0)为计算每一列的和\n",
        "#mean(1)为计算行的平均值"
      ],
      "metadata": {
        "colab": {
          "base_uri": "https://localhost:8080/"
        },
        "id": "7DJF0-Jt9TeA",
        "outputId": "f27751f8-be4a-48d6-d16f-5c821cff5490"
      },
      "execution_count": null,
      "outputs": [
        {
          "output_type": "stream",
          "name": "stdout",
          "text": [
            "0.002416348861382193\n",
            "0.002416348861382193\n",
            "0.07249046584146579\n"
          ]
        }
      ]
    },
    {
      "cell_type": "markdown",
      "source": [
        "#布尔值计数\n",
        "利用True==1用于计数,注意元素为bool类型的数组还有all方法和any方法，分别用于检查时候所有值都是True，和测试数组中是否存在一个或多个True。"
      ],
      "metadata": {
        "id": "sWXFbvwl-7Hq"
      }
    },
    {
      "cell_type": "code",
      "source": [
        "arr = np.random.randn(100)\n",
        "(arr>0).sum()"
      ],
      "metadata": {
        "colab": {
          "base_uri": "https://localhost:8080/"
        },
        "id": "9r4iqK3O8Xxq",
        "outputId": "4aa53caa-b181-4af7-f26d-f4df60d91cbd"
      },
      "execution_count": null,
      "outputs": [
        {
          "output_type": "execute_result",
          "data": {
            "text/plain": [
              "60"
            ]
          },
          "metadata": {},
          "execution_count": 26
        }
      ]
    },
    {
      "cell_type": "markdown",
      "source": [
        "#np集合操作\n",
        "针对一维ndarry的基本集合运算，最常用的是np.uniqure\n",
        "- >以下两种实现方式等价，但是类型不一样"
      ],
      "metadata": {
        "id": "49qqm3XYAL7f"
      }
    },
    {
      "cell_type": "code",
      "source": [
        "ints = np.array([12,3,45,6,2,8,8,9,0,4,1,6,1,3,4,3,])\n",
        "a = np.unique(ints)\n",
        "print(\"type_a:\",type(a))\n",
        "print(a)\n",
        "print(a[2])\n",
        "\n",
        "b = sorted(set(ints))\n",
        "print(\"type_b\",type(b))\n",
        "print(b)\n",
        "print(b[2])"
      ],
      "metadata": {
        "colab": {
          "base_uri": "https://localhost:8080/"
        },
        "id": "QealC1nk_InY",
        "outputId": "6960cd41-e69e-43bc-9366-b0b39e148956"
      },
      "execution_count": null,
      "outputs": [
        {
          "output_type": "stream",
          "name": "stdout",
          "text": [
            "type_a: <class 'numpy.ndarray'>\n",
            "[ 0  1  2  3  4  6  8  9 12 45]\n",
            "2\n",
            "type_b <class 'list'>\n",
            "[0, 1, 2, 3, 4, 6, 8, 9, 12, 45]\n",
            "2\n"
          ]
        }
      ]
    },
    {
      "cell_type": "markdown",
      "source": [
        "#用于数组的文件输入输出\n",
        "NumPy能读写磁盘上的文本数据或二进制数据。"
      ],
      "metadata": {
        "id": "6_vhHEh8BgaV"
      }
    },
    {
      "cell_type": "code",
      "source": [
        "arr = np.arange(10)\n",
        "np.save(\"s.npy\",arr)\n",
        "np.load(\"s.npy\")"
      ],
      "metadata": {
        "colab": {
          "base_uri": "https://localhost:8080/"
        },
        "id": "mUBq4rbcAnLo",
        "outputId": "61418f70-6a5d-4443-a827-aa99260c793b"
      },
      "execution_count": null,
      "outputs": [
        {
          "output_type": "execute_result",
          "data": {
            "text/plain": [
              "array([0, 1, 2, 3, 4, 5, 6, 7, 8, 9])"
            ]
          },
          "metadata": {},
          "execution_count": 34
        }
      ]
    },
    {
      "cell_type": "markdown",
      "source": [
        "- > np.savez()可以将多个数组保存到一个未压缩文件中，将数组以**关键字参数形式**传入，注意保存文件名后缀*.npz,如果需要数据压缩，可以使用numpy_savez_compressed( )"
      ],
      "metadata": {
        "id": "81R15IovCTdT"
      }
    },
    {
      "cell_type": "code",
      "source": [
        "arr = np.arange(10)\n",
        "np.savez('s1.npz',a=arr,b=arr*2)\n",
        "\n",
        "arch = np.load(\"s1.npz\")\n",
        "print(arch['b'])"
      ],
      "metadata": {
        "colab": {
          "base_uri": "https://localhost:8080/"
        },
        "id": "MNDP_qCDBzAe",
        "outputId": "26c0b167-1dd0-42ff-a833-03db08c1573a"
      },
      "execution_count": null,
      "outputs": [
        {
          "output_type": "stream",
          "name": "stdout",
          "text": [
            "[ 0  2  4  6  8 10 12 14 16 18]\n"
          ]
        }
      ]
    },
    {
      "cell_type": "code",
      "source": [
        ""
      ],
      "metadata": {
        "id": "-ZaTsvQqC_DD"
      },
      "execution_count": null,
      "outputs": []
    }
  ]
}