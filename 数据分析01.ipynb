{
  "nbformat": 4,
  "nbformat_minor": 0,
  "metadata": {
    "colab": {
      "name": "数据分析01.ipynb",
      "provenance": [],
      "collapsed_sections": [],
      "authorship_tag": "ABX9TyNh4fo6Q4XAKp/Jm3yJ/1nE",
      "include_colab_link": true
    },
    "kernelspec": {
      "name": "python3",
      "display_name": "Python 3"
    },
    "language_info": {
      "name": "python"
    }
  },
  "cells": [
    {
      "cell_type": "markdown",
      "metadata": {
        "id": "view-in-github",
        "colab_type": "text"
      },
      "source": [
        "<a href=\"https://colab.research.google.com/github/Simon006/python_for_data_analysis_note/blob/main/%E6%95%B0%E6%8D%AE%E5%88%86%E6%9E%9001.ipynb\" target=\"_parent\"><img src=\"https://colab.research.google.com/assets/colab-badge.svg\" alt=\"Open In Colab\"/></a>"
      ]
    },
    {
      "cell_type": "markdown",
      "source": [
        "#Python简单复习\n",
        "**自省**，在变量前后使用？，显示对象的信息，使用？？会显示对象（例如：函数）的源码。"
      ],
      "metadata": {
        "id": "1vRxBO7Q94V0"
      }
    },
    {
      "cell_type": "code",
      "execution_count": null,
      "metadata": {
        "id": "OgUX2mxx9dSW"
      },
      "outputs": [],
      "source": [
        "b = [1,2,3]\n",
        "b?"
      ]
    },
    {
      "cell_type": "code",
      "source": [
        "#输出\n",
        "#Type:        list\n",
        "#String form: [1, 2, 3]\n",
        "# Length:      3\n",
        "# Docstring:  \n",
        "# Built-in mutable sequence.\n",
        "\n",
        "# If no argument is given, the constructor creates a new empty list.\n",
        "# The argument must be an iterable if specified."
      ],
      "metadata": {
        "id": "zSF67fjA-VHu"
      },
      "execution_count": null,
      "outputs": []
    },
    {
      "cell_type": "code",
      "source": [
        "b??"
      ],
      "metadata": {
        "id": "WfsbQVns92Bm"
      },
      "execution_count": null,
      "outputs": []
    },
    {
      "cell_type": "code",
      "source": [
        "#输出\n",
        "# Type:        list\n",
        "# String form: [1, 2, 3]\n",
        "# Length:      3"
      ],
      "metadata": {
        "id": "y7-3kKq593Sg"
      },
      "execution_count": null,
      "outputs": []
    },
    {
      "cell_type": "code",
      "source": [
        "import numpy as np\n",
        "\n",
        "np.math??\n",
        "#输出\n",
        "# Type:        module\n",
        "# String form: <module 'math' (built-in)>"
      ],
      "metadata": {
        "id": "a-khjJ7w-kUg"
      },
      "execution_count": null,
      "outputs": []
    },
    {
      "cell_type": "markdown",
      "source": [
        "#从剪切板执行程序\n",
        "可以复制到任意代码格中运行，或者在IPython shell中执行\n"
      ],
      "metadata": {
        "id": "JiAI6Bk2CBL5"
      }
    },
    {
      "cell_type": "code",
      "source": [
        "%paste"
      ],
      "metadata": {
        "id": "X4XrJ54jDN-a"
      },
      "execution_count": null,
      "outputs": []
    },
    {
      "cell_type": "markdown",
      "source": [
        "运行%natplotlib配置，可以创建多个绘图窗口，而不会干扰控制台session。"
      ],
      "metadata": {
        "id": "K7oou1PvDu5Z"
      }
    },
    {
      "cell_type": "code",
      "source": [
        "%matplotlib inline"
      ],
      "metadata": {
        "id": "OjtJcyGYDuK2"
      },
      "execution_count": null,
      "outputs": []
    },
    {
      "cell_type": "markdown",
      "source": [
        "#可迭代协议\n",
        "鸭子类型，验证一个对象是否遵循迭代协议判断它是可迭代的。\n",
        "\n",
        "魔术方法\\_\\_iter\\_\\_( )"
      ],
      "metadata": {
        "id": "iVDR6qE7GU8o"
      }
    },
    {
      "cell_type": "code",
      "source": [
        "def isiterable(obj):\n",
        "  try:\n",
        "    iter(obj)\n",
        "    return True\n",
        "  except TypeError:\n",
        "    return False  \n",
        "\n",
        "isiterable([1,2,3])"
      ],
      "metadata": {
        "colab": {
          "base_uri": "https://localhost:8080/"
        },
        "id": "lnn-z6WODtOJ",
        "outputId": "79189c33-3b92-4b75-9174-df604884ce2e"
      },
      "execution_count": null,
      "outputs": [
        {
          "output_type": "execute_result",
          "data": {
            "text/plain": [
              "True"
            ]
          },
          "metadata": {},
          "execution_count": 18
        }
      ]
    },
    {
      "cell_type": "markdown",
      "source": [
        "#二元操作符"
      ],
      "metadata": {
        "id": "WHxC6iXVS4bY"
      }
    },
    {
      "cell_type": "code",
      "source": [
        "a=True\n",
        "b=True\n",
        "print(a^b)\n",
        "c=False\n",
        "d=False\n",
        "print(c^d)\n",
        "print(a^c)\n",
        "# 操作符^两个元素同bool值返回false，有一个True则为True"
      ],
      "metadata": {
        "id": "zZHytOphGj8N",
        "colab": {
          "base_uri": "https://localhost:8080/"
        },
        "outputId": "d30d0357-694e-4612-cb0d-3eacfc5f062d"
      },
      "execution_count": null,
      "outputs": [
        {
          "output_type": "stream",
          "name": "stdout",
          "text": [
            "False\n",
            "False\n",
            "True\n"
          ]
        }
      ]
    },
    {
      "cell_type": "markdown",
      "source": [
        "#字符串\n",
        "根据下面代码，可以看出来多行字符串s占据了了4行，而a只有一行，采用count来计数换行符的个数L，那么总行数就是1+L。\n",
        "另外，字符串是不可修改的，字符串的replace方法会建立新的空间。"
      ],
      "metadata": {
        "id": "Zu_Qk9OrUSh6"
      }
    },
    {
      "cell_type": "code",
      "source": [
        "s = '''\n",
        "  this is a long string\n",
        "  spans mutiple lines.\n",
        "'''\n",
        "a = 'a'\n",
        "print(a.count('\\n'))\n",
        "print(s.count('\\n'))"
      ],
      "metadata": {
        "colab": {
          "base_uri": "https://localhost:8080/"
        },
        "id": "2G06h8xHSy-s",
        "outputId": "d4099fa1-2a5e-400f-9ad7-a619f61c3ee1"
      },
      "execution_count": null,
      "outputs": [
        {
          "output_type": "stream",
          "name": "stdout",
          "text": [
            "0\n",
            "3\n"
          ]
        }
      ]
    },
    {
      "cell_type": "code",
      "source": [
        "s.replace('lines','rows')"
      ],
      "metadata": {
        "colab": {
          "base_uri": "https://localhost:8080/",
          "height": 35
        },
        "id": "lb0US2bRT4Fg",
        "outputId": "539e633e-d13d-4c38-cea9-2fb506293dfc"
      },
      "execution_count": null,
      "outputs": [
        {
          "output_type": "execute_result",
          "data": {
            "text/plain": [
              "'\\n  this is a long string\\n  spans mutiple rows.\\n'"
            ],
            "application/vnd.google.colaboratory.intrinsic+json": {
              "type": "string"
            }
          },
          "metadata": {},
          "execution_count": 9
        }
      ]
    },
    {
      "cell_type": "markdown",
      "source": [
        "字符串是一个序列的Unicode字符，因此可以想其他序列，比如列表和元组一样进行处理,如下列示例切片操作。"
      ],
      "metadata": {
        "id": "vWEc-ECOVCKz"
      }
    },
    {
      "cell_type": "code",
      "source": [
        "s1 = list(s)\n",
        "print(s1)\n",
        "print(s[:5])"
      ],
      "metadata": {
        "colab": {
          "base_uri": "https://localhost:8080/"
        },
        "id": "_c-RHsMpU5YT",
        "outputId": "badaf740-3791-4aad-addd-2f9e550c04de"
      },
      "execution_count": null,
      "outputs": [
        {
          "output_type": "stream",
          "name": "stdout",
          "text": [
            "['\\n', ' ', ' ', 't', 'h', 'i', 's', ' ', 'i', 's', ' ', 'a', ' ', 'l', 'o', 'n', 'g', ' ', 's', 't', 'r', 'i', 'n', 'g', '\\n', ' ', ' ', 's', 'p', 'a', 'n', 's', ' ', 'm', 'u', 't', 'i', 'p', 'l', 'e', ' ', 'l', 'i', 'n', 'e', 's', '.', '\\n']\n",
            "\n",
            "  th\n"
          ]
        }
      ]
    },
    {
      "cell_type": "markdown",
      "source": [
        "字符串中的转义字符\\有如下两种等价写法。\n"
      ],
      "metadata": {
        "id": "rT-wPS1xV2N5"
      }
    },
    {
      "cell_type": "code",
      "source": [
        "s2 = r'this\\is\\a\\long\\string'\n",
        "s3 = 'this\\\\is\\\\a\\\\long\\\\string'\n",
        "print(s2)\n",
        "print(s3)"
      ],
      "metadata": {
        "colab": {
          "base_uri": "https://localhost:8080/"
        },
        "id": "eHDeh4EgVTfM",
        "outputId": "d58beb71-33a9-4a65-a1ba-882c70310661"
      },
      "execution_count": null,
      "outputs": [
        {
          "output_type": "stream",
          "name": "stdout",
          "text": [
            "this\\is\\a\\long\\string\n",
            "this\\is\\a\\long\\string\n"
          ]
        }
      ]
    },
    {
      "cell_type": "markdown",
      "source": [
        "字符串合并"
      ],
      "metadata": {
        "id": "wjmyyMPOWBNX"
      }
    },
    {
      "cell_type": "code",
      "source": [
        "s4 = s2+s3\n",
        "print(s4)"
      ],
      "metadata": {
        "colab": {
          "base_uri": "https://localhost:8080/"
        },
        "id": "5gnCbTzZVxaj",
        "outputId": "df5d7f72-5743-4bff-8a00-83bfce283fa4"
      },
      "execution_count": null,
      "outputs": [
        {
          "output_type": "stream",
          "name": "stdout",
          "text": [
            "this\\is\\a\\long\\stringthis\\is\\a\\long\\string\n"
          ]
        }
      ]
    },
    {
      "cell_type": "markdown",
      "source": [
        "#format方法\n",
        "字符串模板、格式化，可以用format方法替换格式化参数为字符串，产生一个新的字符"
      ],
      "metadata": {
        "id": "0WzdHgjOWRG4"
      }
    },
    {
      "cell_type": "code",
      "source": [
        "template = '{0:.2f} {1:s} are worth $US{2:d}'\n",
        "#分别代表第一个参数为两位小数\n",
        "#第二位参数是字符串\n",
        "#第三位参数是整数"
      ],
      "metadata": {
        "id": "ku9ubHFeWE-h"
      },
      "execution_count": null,
      "outputs": []
    },
    {
      "cell_type": "code",
      "source": [
        "a=template.format(4.5560,'Argentine Pesos',1)\n",
        "print(template)\n",
        "print(a)"
      ],
      "metadata": {
        "colab": {
          "base_uri": "https://localhost:8080/"
        },
        "id": "GDgv9eNMWvY5",
        "outputId": "9f66f6fe-b6eb-4903-8651-df669f3644ef"
      },
      "execution_count": null,
      "outputs": [
        {
          "output_type": "stream",
          "name": "stdout",
          "text": [
            "{0:.2f} {1:s} are worth $US{2:d}\n",
            "4.56 Argentine Pesos are worth $US1\n"
          ]
        }
      ]
    },
    {
      "cell_type": "markdown",
      "source": [
        "#None\n",
        "None是唯一的NoneType实例"
      ],
      "metadata": {
        "id": "KE1TxLUJXdaj"
      }
    },
    {
      "cell_type": "code",
      "source": [
        "print(type(None))"
      ],
      "metadata": {
        "colab": {
          "base_uri": "https://localhost:8080/"
        },
        "id": "KV25nnBkW8-z",
        "outputId": "45484fa0-4212-42be-9ef8-6f5c37f48525"
      },
      "execution_count": null,
      "outputs": [
        {
          "output_type": "stream",
          "name": "stdout",
          "text": [
            "<class 'NoneType'>\n"
          ]
        }
      ]
    },
    {
      "cell_type": "markdown",
      "source": [
        "#元组拆包\n",
        "注意拆包之后，类型会根据元素而改变"
      ],
      "metadata": {
        "id": "E3lxczFlX8rq"
      }
    },
    {
      "cell_type": "code",
      "source": [
        "value = (1,2,3,4,5,6)\n",
        "a,b,*rest = value\n",
        "print(a)\n",
        "print(b)\n",
        "print(rest)\n",
        "print(type(a))\n",
        "print(type(rest))"
      ],
      "metadata": {
        "colab": {
          "base_uri": "https://localhost:8080/"
        },
        "id": "s_V0fSRJXmJY",
        "outputId": "feb957fc-2bb4-4d54-f5c2-1f554619f080"
      },
      "execution_count": null,
      "outputs": [
        {
          "output_type": "stream",
          "name": "stdout",
          "text": [
            "1\n",
            "2\n",
            "[3, 4, 5, 6]\n",
            "<class 'int'>\n",
            "<class 'list'>\n"
          ]
        }
      ]
    },
    {
      "cell_type": "code",
      "source": [
        "#计数 count函数\n",
        "print(value.count(1))"
      ],
      "metadata": {
        "colab": {
          "base_uri": "https://localhost:8080/"
        },
        "id": "CknFqwI1YHD1",
        "outputId": "11c8096e-1703-4b23-9938-0afad6870477"
      },
      "execution_count": null,
      "outputs": [
        {
          "output_type": "stream",
          "name": "stdout",
          "text": [
            "1\n"
          ]
        }
      ]
    },
    {
      "cell_type": "code",
      "source": [
        "list1 = list(value)\n",
        "print(id(list1))\n",
        "list1.pop()\n",
        "#默认删除最后一个元素\n",
        "print(id(list1))\n",
        "print(list1)\n",
        "#同一对象原地修改"
      ],
      "metadata": {
        "colab": {
          "base_uri": "https://localhost:8080/"
        },
        "id": "osNMSMqMYeDL",
        "outputId": "83801d45-f8ba-4057-d03d-0b6519a51463"
      },
      "execution_count": null,
      "outputs": [
        {
          "output_type": "stream",
          "name": "stdout",
          "text": [
            "139901397797216\n",
            "139901397797216\n",
            "[1, 2, 3, 4, 5]\n"
          ]
        }
      ]
    },
    {
      "cell_type": "markdown",
      "source": [
        "#二分搜索和维护已排序的列表\n",
        "sort方法排序出来之后的序列，可以通过bisect进行二分查找，并向已经排序的列表插入值，bisect.bisect可以找到插入值后仍保证排序的位置，bisect.insort是向这个位置插入值。"
      ],
      "metadata": {
        "id": "Fu3fqVWuZLJz"
      }
    },
    {
      "cell_type": "code",
      "source": [
        "import bisect\n",
        "a = [1,3,5,3,1,4,2,34,34,3,5,7,8,9,0]\n",
        "a.sort()\n",
        "print(a)"
      ],
      "metadata": {
        "colab": {
          "base_uri": "https://localhost:8080/"
        },
        "id": "06_9w4uYYrD1",
        "outputId": "54a3f9a1-1ca4-4f08-f509-fc7067d98667"
      },
      "execution_count": null,
      "outputs": [
        {
          "output_type": "stream",
          "name": "stdout",
          "text": [
            "[0, 1, 1, 2, 3, 3, 3, 4, 5, 5, 7, 8, 9, 34, 34]\n"
          ]
        }
      ]
    },
    {
      "cell_type": "code",
      "source": [
        "b = bisect.bisect(a,1)\n",
        "print(a)\n",
        "print(b)\n",
        "#bisect 找位置"
      ],
      "metadata": {
        "colab": {
          "base_uri": "https://localhost:8080/"
        },
        "id": "qwQgH3DDZzGU",
        "outputId": "00a060cd-4158-453c-956e-7e4107727660"
      },
      "execution_count": null,
      "outputs": [
        {
          "output_type": "stream",
          "name": "stdout",
          "text": [
            "[0, 1, 1, 2, 3, 3, 3, 4, 5, 5, 7, 8, 9, 34, 34]\n",
            "3\n"
          ]
        }
      ]
    },
    {
      "cell_type": "markdown",
      "source": [
        "注意insort方法的返回值是None，它是在内存原地进行修改的。"
      ],
      "metadata": {
        "id": "qiFlrEszbEWV"
      }
    },
    {
      "cell_type": "code",
      "source": [
        "bisect.insort(a,1)\n",
        "print(a)\n",
        "bisect.insort(a,6)\n",
        "print(a)"
      ],
      "metadata": {
        "colab": {
          "base_uri": "https://localhost:8080/"
        },
        "id": "0HM4KJndaEtg",
        "outputId": "f90a7729-d616-4d6e-889e-76ca27c8b127"
      },
      "execution_count": null,
      "outputs": [
        {
          "output_type": "stream",
          "name": "stdout",
          "text": [
            "[0, 1, 1, 1, 2, 3, 3, 3, 4, 5, 5, 7, 8, 9, 34, 34]\n",
            "[0, 1, 1, 1, 2, 3, 3, 3, 4, 5, 5, 6, 7, 8, 9, 34, 34]\n"
          ]
        }
      ]
    },
    {
      "cell_type": "markdown",
      "source": [
        "#enumerate函数\n",
        "迭代序列并跟踪当前项序号的好办法。\n",
        "下示例演示了计算序列唯一的dict映射到位置的值。"
      ],
      "metadata": {
        "id": "9_k46dZFbYHY"
      }
    },
    {
      "cell_type": "code",
      "source": [
        "collection = ['foo','bar','baz']\n",
        "mapping = {}\n",
        "for i,value in enumerate(collection):\n",
        "  #do sth. \n",
        "  mapping[i] = value\n",
        "print(mapping)  "
      ],
      "metadata": {
        "colab": {
          "base_uri": "https://localhost:8080/"
        },
        "id": "2JBYd5_YbrBi",
        "outputId": "d6f452c5-66a0-4b8e-e771-e96bb5184a9e"
      },
      "execution_count": null,
      "outputs": [
        {
          "output_type": "stream",
          "name": "stdout",
          "text": [
            "{0: 'foo', 1: 'bar', 2: 'baz'}\n"
          ]
        }
      ]
    },
    {
      "cell_type": "markdown",
      "source": [
        "#zip\n",
        "zip函数可以将多个列表、元组或者其他序列成对组成一个元组列表：\n",
        "需要将zip对象变成列表。"
      ],
      "metadata": {
        "id": "6P3P4w0Xbtvy"
      }
    },
    {
      "cell_type": "code",
      "source": [
        "seq1 = ['foo','bar','baz']\n",
        "seq2 = ['bar','foo','baz']\n",
        "a = zip(seq1,seq2)\n",
        "print(a)\n",
        "print(list(a))"
      ],
      "metadata": {
        "colab": {
          "base_uri": "https://localhost:8080/"
        },
        "id": "_EIqwPhhcZ4z",
        "outputId": "61fcd88a-92e4-4ec1-9bdc-82db3bd97055"
      },
      "execution_count": null,
      "outputs": [
        {
          "output_type": "stream",
          "name": "stdout",
          "text": [
            "<zip object at 0x7f3d55173f00>\n",
            "[('foo', 'bar'), ('bar', 'foo'), ('baz', 'baz')]\n"
          ]
        }
      ]
    },
    {
      "cell_type": "markdown",
      "source": [
        "zip函数可以处理任意多的序列，元素个数取决于最短的序列：\n",
        "\n"
      ],
      "metadata": {
        "id": "9TwL6NN1c3LO"
      }
    },
    {
      "cell_type": "code",
      "source": [
        "seq3 =[False,True]\n",
        "b = zip(seq1,seq2,seq3)\n",
        "print(list(b))"
      ],
      "metadata": {
        "colab": {
          "base_uri": "https://localhost:8080/"
        },
        "id": "1lw720s2cmUe",
        "outputId": "18d5adb0-f72a-4383-f8c7-3c3da82bbabb"
      },
      "execution_count": null,
      "outputs": [
        {
          "output_type": "stream",
          "name": "stdout",
          "text": [
            "[('foo', 'bar', False), ('bar', 'foo', True)]\n"
          ]
        }
      ]
    },
    {
      "cell_type": "markdown",
      "source": [
        "#序列创造字典\n",
        "目标例子：创建一个按照单词首字母排序的字典"
      ],
      "metadata": {
        "id": "F8-e2S6xehe0"
      }
    },
    {
      "cell_type": "code",
      "source": [
        "letters = ['a','b','c','d','e','f','g','h','i','j','k','l','m','n','o','p','q','r','s','t','u','v','w','x','y','z']\n",
        "words = ['apples','bat','bar','atom','book']\n",
        "by_letter = {}\n",
        "for word in words:\n",
        "  letter = word[0]\n",
        "  if letter in by_letter:\n",
        "    by_letter[letter].append(word)\n",
        "  else:\n",
        "    by_letter[letter]=[word]\n",
        "print(by_letter)      \n"
      ],
      "metadata": {
        "colab": {
          "base_uri": "https://localhost:8080/"
        },
        "id": "tPnn4rkxdHEu",
        "outputId": "798b26d7-0245-4842-ce06-366768687a8f"
      },
      "execution_count": null,
      "outputs": [
        {
          "output_type": "stream",
          "name": "stdout",
          "text": [
            "{'a': ['apples', 'atom'], 'b': ['bat', 'bar', 'book']}\n"
          ]
        }
      ]
    },
    {
      "cell_type": "markdown",
      "source": [
        "#集合\n",
        "对于大的集合，用**结果替代集合**的内容，这种原地实现的方法更具效率。"
      ],
      "metadata": {
        "id": "I4yypwKOhHEp"
      }
    },
    {
      "cell_type": "code",
      "source": [
        "a = {1,2,3,4,6,7,8}\n",
        "b = {4,6,7,8,9,0,11}\n",
        "b|=a\n",
        "print(b)\n",
        "#b中的元素为a和b的合并（union函数）"
      ],
      "metadata": {
        "colab": {
          "base_uri": "https://localhost:8080/"
        },
        "id": "_-BXj_0lft4w",
        "outputId": "f3d6ab75-4a60-417f-e7ed-07a31a802715"
      },
      "execution_count": null,
      "outputs": [
        {
          "output_type": "stream",
          "name": "stdout",
          "text": [
            "{0, 1, 2, 3, 4, 6, 7, 8, 9, 11}\n"
          ]
        }
      ]
    },
    {
      "cell_type": "code",
      "source": [
        "a = {1,2,3,4,6,7,8}\n",
        "b = {4,6,7,8,9,0,11}\n",
        "print(a&b)\n",
        "b&=a\n",
        "print(b)\n",
        "#输出交集"
      ],
      "metadata": {
        "colab": {
          "base_uri": "https://localhost:8080/"
        },
        "id": "nsGuU-1hhj8d",
        "outputId": "778505af-43ae-4028-ac0f-c6783b0fb871"
      },
      "execution_count": null,
      "outputs": [
        {
          "output_type": "stream",
          "name": "stdout",
          "text": [
            "{8, 4, 6, 7}\n",
            "{8, 4, 6, 7}\n"
          ]
        }
      ]
    },
    {
      "cell_type": "markdown",
      "source": [
        "#函数皆对象\n",
        "python的函数都是对象，我们可以用这种设计的想法来实现例如下列的数据清理工作和执行一些转换。来处理用户提交的一些乱糟糟的数据，我们需要做的是：**去除空白符号，删除各种标点符号，修改正确的大小写，去除输入中间多余的空格**。"
      ],
      "metadata": {
        "id": "lrAgYKnUj3Rb"
      }
    },
    {
      "cell_type": "code",
      "source": [
        "states=['  Alabama ','Georgia','georgia','FLOrIda','south   carolina##','West virginia?']   \n",
        "print(states[0].strip())\n",
        "print(states[2].title())\n"
      ],
      "metadata": {
        "colab": {
          "base_uri": "https://localhost:8080/"
        },
        "id": "5alfYlMbh1Gd",
        "outputId": "a4dcf693-0087-4945-a823-aaf476164098"
      },
      "execution_count": null,
      "outputs": [
        {
          "output_type": "stream",
          "name": "stdout",
          "text": [
            "Alabama\n",
            "Georgia\n"
          ]
        }
      ]
    },
    {
      "cell_type": "code",
      "source": [
        "import re\n",
        "def clean_strings(states):\n",
        "  result = []\n",
        "  for value in states:\n",
        "    value = value.strip()  \n",
        "    #去除空格\n",
        "    value = re.sub('[!#?]',\"\",value)\n",
        "    #去除特殊字符\n",
        "    value = re.sub('  ',' ',value)\n",
        "    #去除多余空格\n",
        "    value = value.title()\n",
        "    #首字母大写，其余小写格式\n",
        "    result.append(value)\n",
        "  return result\n",
        "result = clean_strings(states)\n",
        "print(result)    "
      ],
      "metadata": {
        "colab": {
          "base_uri": "https://localhost:8080/"
        },
        "id": "Nk9sTWqHj2lX",
        "outputId": "30f4713e-b3fa-4b1a-e271-6c601749df55"
      },
      "execution_count": null,
      "outputs": [
        {
          "output_type": "stream",
          "name": "stdout",
          "text": [
            "['Alabama', 'Georgia', 'Georgia', 'Florida', 'South  Carolina', 'West Virginia']\n"
          ]
        }
      ]
    },
    {
      "cell_type": "markdown",
      "source": [
        "#匿名函数\n",
        "lambda函数可以作为**一个函数参数传入**，通过直接传入函数参数会比编写完整的函数声明要简便很多。"
      ],
      "metadata": {
        "id": "4HHAqBeV8agD"
      }
    },
    {
      "cell_type": "code",
      "source": [
        "strings = ['foo','card','bar','aaaa','ababa']\n",
        "strings.sort(key=lambda x:len(set(list(x))))\n",
        "print(strings)"
      ],
      "metadata": {
        "id": "fevv7iNNmbXM",
        "colab": {
          "base_uri": "https://localhost:8080/"
        },
        "outputId": "c5bb1e0d-8afb-4535-c2a2-f0a7f0c923e9"
      },
      "execution_count": null,
      "outputs": [
        {
          "output_type": "stream",
          "name": "stdout",
          "text": [
            "['aaaa', 'foo', 'ababa', 'bar', 'card']\n"
          ]
        }
      ]
    },
    {
      "cell_type": "code",
      "source": [
        "gen=(x**2 for x in range(10))\n",
        "print(gen)"
      ],
      "metadata": {
        "colab": {
          "base_uri": "https://localhost:8080/"
        },
        "id": "h2FeACa585vx",
        "outputId": "23a8ceea-01d6-406c-8eef-117e0309231c"
      },
      "execution_count": 5,
      "outputs": [
        {
          "output_type": "stream",
          "name": "stdout",
          "text": [
            "<generator object <genexpr> at 0x7f406360c5d0>\n"
          ]
        }
      ]
    },
    {
      "cell_type": "markdown",
      "source": [
        "#错误和异常处理"
      ],
      "metadata": {
        "id": "ktux3KsLLKtL"
      }
    },
    {
      "cell_type": "code",
      "source": [
        "path = 'D://path.txt'\n",
        "def write_to_file(f):\n",
        "  f.read(10)\n",
        "\n",
        "f = open(path,'w')\n",
        "try:\n",
        "  write_to_file(f)\n",
        "except:\n",
        "  print('failed')\n",
        "else:\n",
        "  print('succeeded')\n",
        "finally:\n",
        "  f.close()  "
      ],
      "metadata": {
        "id": "GHIxD9qGLXLG"
      },
      "execution_count": null,
      "outputs": []
    },
    {
      "cell_type": "markdown",
      "source": [
        "read模式会将文件句柄提前，下例子返回文件句柄当前的位置"
      ],
      "metadata": {
        "id": "NDxXx3n6OVd1"
      }
    },
    {
      "cell_type": "code",
      "source": [
        "f.tell()"
      ],
      "metadata": {
        "id": "uFNhkKZNOdDp"
      },
      "execution_count": null,
      "outputs": []
    },
    {
      "cell_type": "markdown",
      "source": [
        "向文件写入可以使用write方法或者writelines方法。"
      ],
      "metadata": {
        "id": "1_5srJM2Offy"
      }
    }
  ]
}