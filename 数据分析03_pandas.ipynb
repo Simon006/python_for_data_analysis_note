{
  "nbformat": 4,
  "nbformat_minor": 0,
  "metadata": {
    "colab": {
      "name": "数据分析03_pandas.ipynb",
      "provenance": [],
      "collapsed_sections": [],
      "authorship_tag": "ABX9TyPvKHxoNm2kNDiq7Nc7ztmw",
      "include_colab_link": true
    },
    "kernelspec": {
      "name": "python3",
      "display_name": "Python 3"
    },
    "language_info": {
      "name": "python"
    }
  },
  "cells": [
    {
      "cell_type": "markdown",
      "metadata": {
        "id": "view-in-github",
        "colab_type": "text"
      },
      "source": [
        "<a href=\"https://colab.research.google.com/github/Simon006/python_for_data_analysis_note/blob/main/%E6%95%B0%E6%8D%AE%E5%88%86%E6%9E%9003_pandas.ipynb\" target=\"_parent\"><img src=\"https://colab.research.google.com/assets/colab-badge.svg\" alt=\"Open In Colab\"/></a>"
      ]
    },
    {
      "cell_type": "markdown",
      "source": [
        "#series\n",
        "Series 是一种类似于以为数组的对象，由一组数据（各种numpy数据类型）以及一组与之相关的数据标签（即索引）组成。索引值由**0~N-1**的证书型索引。可以通过Series的values和index属性获取。"
      ],
      "metadata": {
        "id": "AL5k36gnNDA0"
      }
    },
    {
      "cell_type": "code",
      "execution_count": 1,
      "metadata": {
        "colab": {
          "base_uri": "https://localhost:8080/"
        },
        "id": "_dhcjiwPMjfP",
        "outputId": "18f55c50-d881-4cf9-f7bb-10b955813907"
      },
      "outputs": [
        {
          "output_type": "stream",
          "name": "stdout",
          "text": [
            "0    4\n",
            "1    7\n",
            "2   -5\n",
            "3    3\n",
            "dtype: int64\n"
          ]
        }
      ],
      "source": [
        "import pandas as pd\n",
        "obj = pd.Series([4,7,-5,3])\n",
        "print(obj)"
      ]
    },
    {
      "cell_type": "code",
      "source": [
        "print(obj.values)\n",
        "print(obj.index)"
      ],
      "metadata": {
        "colab": {
          "base_uri": "https://localhost:8080/"
        },
        "id": "HeJZgg3tM8X2",
        "outputId": "6bfd55b8-a685-4e37-ee32-cc515fa0d68c"
      },
      "execution_count": 2,
      "outputs": [
        {
          "output_type": "stream",
          "name": "stdout",
          "text": [
            "[ 4  7 -5  3]\n",
            "RangeIndex(start=0, stop=4, step=1)\n"
          ]
        }
      ]
    },
    {
      "cell_type": "markdown",
      "source": [
        "- >带标记的索引"
      ],
      "metadata": {
        "id": "WKfIJuqAN-GO"
      }
    },
    {
      "cell_type": "code",
      "source": [
        "obj2 = pd.Series([4,5,6,7],index=['a','b','c','d'])\n",
        "print(obj2.index)\n",
        "print(obj2)\n",
        "\n",
        "#可以通过传入index的键的顺序来改变列表的字典的键顺序"
      ],
      "metadata": {
        "colab": {
          "base_uri": "https://localhost:8080/"
        },
        "id": "yzrPjAp2NzgW",
        "outputId": "0d56c5da-b975-4b08-bd58-4fccb996bfcf"
      },
      "execution_count": 3,
      "outputs": [
        {
          "output_type": "stream",
          "name": "stdout",
          "text": [
            "Index(['a', 'b', 'c', 'd'], dtype='object')\n",
            "a    4\n",
            "b    5\n",
            "c    6\n",
            "d    7\n",
            "dtype: int64\n"
          ]
        }
      ]
    },
    {
      "cell_type": "code",
      "source": [
        "obj[obj>0]"
      ],
      "metadata": {
        "colab": {
          "base_uri": "https://localhost:8080/"
        },
        "id": "cMBdIZCfOWQ8",
        "outputId": "44953de0-2e1a-4af3-edba-8b6428f582c3"
      },
      "execution_count": 4,
      "outputs": [
        {
          "output_type": "execute_result",
          "data": {
            "text/plain": [
              "0    4\n",
              "1    7\n",
              "3    3\n",
              "dtype: int64"
            ]
          },
          "metadata": {},
          "execution_count": 4
        }
      ]
    },
    {
      "cell_type": "code",
      "source": [
        "import numpy as np\n",
        "np.exp(obj)"
      ],
      "metadata": {
        "colab": {
          "base_uri": "https://localhost:8080/"
        },
        "id": "RcYclPwAOr8r",
        "outputId": "1fc9bdfe-0099-4c96-8b61-de3a4a8d25d0"
      },
      "execution_count": 5,
      "outputs": [
        {
          "output_type": "execute_result",
          "data": {
            "text/plain": [
              "0      54.598150\n",
              "1    1096.633158\n",
              "2       0.006738\n",
              "3      20.085537\n",
              "dtype: float64"
            ]
          },
          "metadata": {},
          "execution_count": 5
        }
      ]
    },
    {
      "cell_type": "markdown",
      "source": [
        "#缺失null\n",
        "pandas的缺失值检测可以用pd.isnull( ),与pd.notnull( )。"
      ],
      "metadata": {
        "id": "nQF3ACblPTWY"
      }
    },
    {
      "cell_type": "markdown",
      "source": [
        "#Series对齐功能\n",
        "Series对齐功能会管局运算的索引标签自动对齐数据。其中每个Series对象本身及其索引都有一个name属性，该属性和pandas其他的关键功能关系非常密切。"
      ],
      "metadata": {
        "id": "MwqSFG7xPock"
      }
    },
    {
      "cell_type": "code",
      "source": [
        "sdata = {'Ohio': 35000, 'Texas': 71000, 'Oregon': 16000, 'Utah': 5000}\n",
        "obj3 = pd.Series(sdata)\n",
        "\n",
        "states = ['California', 'Ohio', 'Oregon', 'Texas']\n",
        "obj4 = pd.Series(sdata, index=states)\n",
        "print(obj3)\n",
        "print(obj4)"
      ],
      "metadata": {
        "colab": {
          "base_uri": "https://localhost:8080/"
        },
        "id": "wu4befl_O1Fr",
        "outputId": "654dc5f8-10e2-4973-faca-6e20aa44d15f"
      },
      "execution_count": 6,
      "outputs": [
        {
          "output_type": "stream",
          "name": "stdout",
          "text": [
            "Ohio      35000\n",
            "Texas     71000\n",
            "Oregon    16000\n",
            "Utah       5000\n",
            "dtype: int64\n",
            "California        NaN\n",
            "Ohio          35000.0\n",
            "Oregon        16000.0\n",
            "Texas         71000.0\n",
            "dtype: float64\n"
          ]
        }
      ]
    },
    {
      "cell_type": "code",
      "source": [
        "#优秀的合并列表对齐功能\n",
        "a = obj3+obj4\n",
        "print(a)"
      ],
      "metadata": {
        "colab": {
          "base_uri": "https://localhost:8080/"
        },
        "id": "_i1ofUQUQet8",
        "outputId": "4b5e49e4-d2e2-4065-f4b1-8599ed04fd03"
      },
      "execution_count": 7,
      "outputs": [
        {
          "output_type": "stream",
          "name": "stdout",
          "text": [
            "California         NaN\n",
            "Ohio           70000.0\n",
            "Oregon         32000.0\n",
            "Texas         142000.0\n",
            "Utah               NaN\n",
            "dtype: float64\n"
          ]
        }
      ]
    },
    {
      "cell_type": "markdown",
      "source": [
        "#索引值就地更改\n",
        "可以通过赋值的形式更改"
      ],
      "metadata": {
        "id": "n2IOSybfQ2ii"
      }
    },
    {
      "cell_type": "code",
      "source": [
        "print(obj)\n",
        "obj.index = ['Bob', 'Steve', 'Jeff', 'Ryan']\n",
        "print(obj)"
      ],
      "metadata": {
        "colab": {
          "base_uri": "https://localhost:8080/"
        },
        "id": "8-Vm4BSIQm-L",
        "outputId": "c51b9265-fa9e-45d3-e4d8-0c41909f9567"
      },
      "execution_count": 8,
      "outputs": [
        {
          "output_type": "stream",
          "name": "stdout",
          "text": [
            "0    4\n",
            "1    7\n",
            "2   -5\n",
            "3    3\n",
            "dtype: int64\n",
            "Bob      4\n",
            "Steve    7\n",
            "Jeff    -5\n",
            "Ryan     3\n",
            "dtype: int64\n"
          ]
        }
      ]
    },
    {
      "cell_type": "markdown",
      "source": [
        "#DataFrame\n",
        "DataFrame是一个表格型的数据结构，它含有一组有序的列，每列可以由不同的值：（数值、字符串、布尔值等）。DataFrame既有行索引也有列索引，它可以被看做由Series组成的字典（共用同一个索引）。DataFrame中的数据是以一个或多个二维块存放的（而不是列表、字典或别的一维数据结构）。\n",
        "\n",
        "- >（1）包括二维ndarray \\\\\n",
        "（2）NumPy结构化/记录数组 \\\\\n",
        "（3）由Series组成的字典  \\\\\n",
        "（4）由列表或者元组组成的列表 \\\\\n",
        "（5）另一个DataFrame \\\\\n"
      ],
      "metadata": {
        "id": "7mGEVZqKRmcR"
      }
    },
    {
      "cell_type": "code",
      "source": [
        "#直接传入一个由等长列表或NumPy数组组成的字典：\n",
        "data = {'state': ['Ohio', 'Ohio', 'Ohio', 'Nevada', 'Nevada', 'Nevada'],\n",
        "        'year': [2000, 2001, 2002, 2001, 2002, 2003],\n",
        "        'pop': [1.5, 1.7, 3.6, 2.4, 2.9, 3.2]}\n",
        "frame = pd.DataFrame(data)"
      ],
      "metadata": {
        "id": "w3GljH1XRgp7"
      },
      "execution_count": 9,
      "outputs": []
    },
    {
      "cell_type": "markdown",
      "source": [
        "DataFrame会自动加上索引（跟Series一样），且全部列会被有序排列："
      ],
      "metadata": {
        "id": "mSU8IKRjSYsb"
      }
    },
    {
      "cell_type": "code",
      "source": [
        "print(frame)\n",
        "print(frame.state)"
      ],
      "metadata": {
        "colab": {
          "base_uri": "https://localhost:8080/"
        },
        "id": "X-mUDOQOSOUm",
        "outputId": "533e2135-8106-4b67-f391-be6df81676f4"
      },
      "execution_count": 10,
      "outputs": [
        {
          "output_type": "stream",
          "name": "stdout",
          "text": [
            "    state  year  pop\n",
            "0    Ohio  2000  1.5\n",
            "1    Ohio  2001  1.7\n",
            "2    Ohio  2002  3.6\n",
            "3  Nevada  2001  2.4\n",
            "4  Nevada  2002  2.9\n",
            "5  Nevada  2003  3.2\n",
            "0      Ohio\n",
            "1      Ohio\n",
            "2      Ohio\n",
            "3    Nevada\n",
            "4    Nevada\n",
            "5    Nevada\n",
            "Name: state, dtype: object\n"
          ]
        }
      ]
    },
    {
      "cell_type": "markdown",
      "source": [
        "#loc方法\n",
        "可以通过loc方法来对行的位置或者名字进行检索"
      ],
      "metadata": {
        "id": "IgRikDNXa6ia"
      }
    },
    {
      "cell_type": "code",
      "source": [
        "#可以通过loc属性访问DataFrame的行\n",
        "frame.loc[4]\n",
        "#注意在修改index索引之后需要用相对应的索引值，例如str来进行索引"
      ],
      "metadata": {
        "id": "bL9mjXGmSavc",
        "colab": {
          "base_uri": "https://localhost:8080/"
        },
        "outputId": "e5d61c5a-74fd-4e56-a908-7ab94daffca8"
      },
      "execution_count": 11,
      "outputs": [
        {
          "output_type": "execute_result",
          "data": {
            "text/plain": [
              "state    Nevada\n",
              "year       2002\n",
              "pop         2.9\n",
              "Name: 4, dtype: object"
            ]
          },
          "metadata": {},
          "execution_count": 11
        }
      ]
    },
    {
      "cell_type": "code",
      "source": [
        "data = {'state': ['Ohio', 'Ohio', 'Ohio', 'Nevada', 'Nevada', 'Nevada'],\n",
        "        'year': [2000, 2001, 2002, 2001, 2002, 2003],\n",
        "        'pop': [1.5, 1.7, 3.6, 2.4, 2.9, 3.2]}\n",
        "\n",
        "frame2 = pd.DataFrame(data,columns=['year', 'state', 'pop', 'debt'],index=['one', 'two', 'three', 'four','five', 'six'])\n",
        "\n",
        "print(frame2)"
      ],
      "metadata": {
        "colab": {
          "base_uri": "https://localhost:8080/"
        },
        "id": "H_hvmtb8akvG",
        "outputId": "d3cf43e0-b219-44e5-ddc7-914d4f06c145"
      },
      "execution_count": 12,
      "outputs": [
        {
          "output_type": "stream",
          "name": "stdout",
          "text": [
            "       year   state  pop debt\n",
            "one    2000    Ohio  1.5  NaN\n",
            "two    2001    Ohio  1.7  NaN\n",
            "three  2002    Ohio  3.6  NaN\n",
            "four   2001  Nevada  2.4  NaN\n",
            "five   2002  Nevada  2.9  NaN\n",
            "six    2003  Nevada  3.2  NaN\n"
          ]
        }
      ]
    },
    {
      "cell_type": "markdown",
      "source": [
        "#列的赋值\n",
        "可以用向量或者一个标量对列进行赋值"
      ],
      "metadata": {
        "id": "zIHIywxAb1Zb"
      }
    },
    {
      "cell_type": "code",
      "source": [
        "frame2['debt']=12\n",
        "print(frame2)"
      ],
      "metadata": {
        "colab": {
          "base_uri": "https://localhost:8080/"
        },
        "id": "3pAvCPxSbvEb",
        "outputId": "0555c17f-c5fe-4981-d88e-af71cdffba47"
      },
      "execution_count": 13,
      "outputs": [
        {
          "output_type": "stream",
          "name": "stdout",
          "text": [
            "       year   state  pop  debt\n",
            "one    2000    Ohio  1.5    12\n",
            "two    2001    Ohio  1.7    12\n",
            "three  2002    Ohio  3.6    12\n",
            "four   2001  Nevada  2.4    12\n",
            "five   2002  Nevada  2.9    12\n",
            "six    2003  Nevada  3.2    12\n"
          ]
        }
      ]
    },
    {
      "cell_type": "code",
      "source": [
        "import numpy as np\n",
        "frame2['debt']=np.arange(6,)   \n",
        "#注意使用的是向量\n",
        "print(frame2)"
      ],
      "metadata": {
        "colab": {
          "base_uri": "https://localhost:8080/"
        },
        "id": "IALmEJyFcCfc",
        "outputId": "e1cc4d46-71d1-4c1e-8853-661e2d221b70"
      },
      "execution_count": 14,
      "outputs": [
        {
          "output_type": "stream",
          "name": "stdout",
          "text": [
            "       year   state  pop  debt\n",
            "one    2000    Ohio  1.5     0\n",
            "two    2001    Ohio  1.7     1\n",
            "three  2002    Ohio  3.6     2\n",
            "four   2001  Nevada  2.4     3\n",
            "five   2002  Nevada  2.9     4\n",
            "six    2003  Nevada  3.2     5\n"
          ]
        }
      ]
    },
    {
      "cell_type": "markdown",
      "source": [
        "#添加列与删除列\n",
        "del用于删除列，添加列的方式可以参考字典添加键值对的方式。\n"
      ],
      "metadata": {
        "id": "lEUq_Ip1cjJS"
      }
    },
    {
      "cell_type": "code",
      "source": [
        "frame2['estern'] = frame2.state=='Ohio'\n",
        "print(frame2)"
      ],
      "metadata": {
        "colab": {
          "base_uri": "https://localhost:8080/"
        },
        "id": "1TnpWq7BcSKS",
        "outputId": "d34ccc80-64b1-45b3-be8c-ef04f54ddd74"
      },
      "execution_count": 15,
      "outputs": [
        {
          "output_type": "stream",
          "name": "stdout",
          "text": [
            "       year   state  pop  debt  estern\n",
            "one    2000    Ohio  1.5     0    True\n",
            "two    2001    Ohio  1.7     1    True\n",
            "three  2002    Ohio  3.6     2    True\n",
            "four   2001  Nevada  2.4     3   False\n",
            "five   2002  Nevada  2.9     4   False\n",
            "six    2003  Nevada  3.2     5   False\n"
          ]
        }
      ]
    },
    {
      "cell_type": "code",
      "source": [
        "val = pd.Series([-1.2, -1.5, -1.7], index=['two', 'four', 'five'])\n",
        "frame2['debt'] = val\n",
        "print(frame2)\n",
        "#注意在定义变量的时候虽然val只有定义了三列的函数，但在修改赋值的时候是对整一列进行了赋值和修改"
      ],
      "metadata": {
        "colab": {
          "base_uri": "https://localhost:8080/"
        },
        "id": "zyIapWIhc4UD",
        "outputId": "ee902d07-0467-487a-a384-eed8104a2e60"
      },
      "execution_count": 16,
      "outputs": [
        {
          "output_type": "stream",
          "name": "stdout",
          "text": [
            "       year   state  pop  debt  estern\n",
            "one    2000    Ohio  1.5   NaN    True\n",
            "two    2001    Ohio  1.7  -1.2    True\n",
            "three  2002    Ohio  3.6   NaN    True\n",
            "four   2001  Nevada  2.4  -1.5   False\n",
            "five   2002  Nevada  2.9  -1.7   False\n",
            "six    2003  Nevada  3.2   NaN   False\n"
          ]
        }
      ]
    },
    {
      "cell_type": "code",
      "source": [
        "#删除列方法 del\n",
        "del frame2['estern']\n",
        "print(frame2)"
      ],
      "metadata": {
        "colab": {
          "base_uri": "https://localhost:8080/"
        },
        "id": "Upromw5ndHZ0",
        "outputId": "e87b8977-b062-486d-8b61-9074eb1142c7"
      },
      "execution_count": 17,
      "outputs": [
        {
          "output_type": "stream",
          "name": "stdout",
          "text": [
            "       year   state  pop  debt\n",
            "one    2000    Ohio  1.5   NaN\n",
            "two    2001    Ohio  1.7  -1.2\n",
            "three  2002    Ohio  3.6   NaN\n",
            "four   2001  Nevada  2.4  -1.5\n",
            "five   2002  Nevada  2.9  -1.7\n",
            "six    2003  Nevada  3.2   NaN\n"
          ]
        }
      ]
    },
    {
      "cell_type": "code",
      "source": [
        "print(frame2.loc['six'])\n",
        "#并不可以del loc调取出来的行"
      ],
      "metadata": {
        "colab": {
          "base_uri": "https://localhost:8080/"
        },
        "id": "aR8xkolRd2gt",
        "outputId": "f42270af-19c7-467c-8bef-ac7ae9492503"
      },
      "execution_count": 18,
      "outputs": [
        {
          "output_type": "stream",
          "name": "stdout",
          "text": [
            "year       2003\n",
            "state    Nevada\n",
            "pop         3.2\n",
            "debt        NaN\n",
            "Name: six, dtype: object\n"
          ]
        }
      ]
    },
    {
      "cell_type": "markdown",
      "source": [
        "#转置\n",
        "DataFrame的转置和NumPy转置类似。\n"
      ],
      "metadata": {
        "id": "2h_pkDvqfWmj"
      }
    },
    {
      "cell_type": "code",
      "source": [
        "pop = {'Nevada': {2001: 2.4, 2002: 2.9},'Ohio': {2000: 1.5, 2001: 1.7, 2002: 3.6}}\n",
        "frame3 = pd.DataFrame(pop)\n",
        "\n",
        "print(frame3)\n",
        "\n",
        "print('\\n')\n",
        "print(\"transpose frame 3\")\n",
        "print('\\n')\n",
        "print(frame3.T)\n"
      ],
      "metadata": {
        "colab": {
          "base_uri": "https://localhost:8080/"
        },
        "id": "Inup3OgSe0wR",
        "outputId": "16a7e669-2052-48d6-c28c-ee439b2dc743"
      },
      "execution_count": 19,
      "outputs": [
        {
          "output_type": "stream",
          "name": "stdout",
          "text": [
            "      Nevada  Ohio\n",
            "2001     2.4   1.7\n",
            "2002     2.9   3.6\n",
            "2000     NaN   1.5\n",
            "\n",
            "\n",
            "transpose frame 3\n",
            "\n",
            "\n",
            "        2001  2002  2000\n",
            "Nevada   2.4   2.9   NaN\n",
            "Ohio     1.7   3.6   1.5\n"
          ]
        }
      ]
    },
    {
      "cell_type": "markdown",
      "source": [
        "#索引对象\n",
        "pandas构建Series和DataFrame的时候，所用到的任何数组或者其他序列的标签都会转换为索引对象index，index对象不可变，因子可以在多个数据结构之间安全共享。\n",
        "\n",
        "- >$\\quad{}$类似于数组，index的功能类似一个固定大小的集合。但和集合不同，index索引可以存在**重复的标签**\n",
        "。 \\\\\n",
        "$\\quad{}$选择重复的标签的时候，会输出全部的结果"
      ],
      "metadata": {
        "id": "hJTKQre4b3Kb"
      }
    },
    {
      "cell_type": "code",
      "source": [
        "print(frame3.index)\n",
        "print(frame3.index[1:])\n"
      ],
      "metadata": {
        "id": "_ltKGTG2fV3m",
        "colab": {
          "base_uri": "https://localhost:8080/"
        },
        "outputId": "1f8f7e60-f785-4b93-ff35-d76c0c1c9681"
      },
      "execution_count": 20,
      "outputs": [
        {
          "output_type": "stream",
          "name": "stdout",
          "text": [
            "Int64Index([2001, 2002, 2000], dtype='int64')\n",
            "Int64Index([2002, 2000], dtype='int64')\n"
          ]
        }
      ]
    },
    {
      "cell_type": "markdown",
      "source": [
        "#重新索引\n",
        "reindex可以创建新对象，数据符合新索引，根据新索引对原列表进行重排，某个索引值不存在的时候就引入缺失值。"
      ],
      "metadata": {
        "id": "dg7rePnadktE"
      }
    },
    {
      "cell_type": "code",
      "source": [
        "obj = pd.Series([4.5, 7.2, -5.3, 3.6], index=['d', 'b', 'a', 'c'])\n",
        "print(obj)\n",
        "\n",
        "#注意index本身不可变，所以reindex会生成一个新对象\n",
        "obj2 = obj.reindex(['a','b','c','d','e'])\n",
        "print(obj2)"
      ],
      "metadata": {
        "colab": {
          "base_uri": "https://localhost:8080/"
        },
        "id": "A2IKsUHuccfm",
        "outputId": "21cf05ce-15e7-4bbf-f940-3fd92c204d56"
      },
      "execution_count": 21,
      "outputs": [
        {
          "output_type": "stream",
          "name": "stdout",
          "text": [
            "d    4.5\n",
            "b    7.2\n",
            "a   -5.3\n",
            "c    3.6\n",
            "dtype: float64\n",
            "a   -5.3\n",
            "b    7.2\n",
            "c    3.6\n",
            "d    4.5\n",
            "e    NaN\n",
            "dtype: float64\n"
          ]
        }
      ]
    },
    {
      "cell_type": "markdown",
      "source": [
        "对于时间序列等有序数据，重新索引是需要一些插值处理，reindex的metheod选项可以实现填充。（例如利用ffill前向值填充）"
      ],
      "metadata": {
        "id": "-64oJX2Odz5x"
      }
    },
    {
      "cell_type": "code",
      "source": [
        "obj3 = pd.Series(['blue', 'purple', 'yellow'], index=[0, 2, 4])\n",
        "print(obj3)\n",
        "\n",
        "print('\\n')\n",
        "\n",
        "obj4 = obj3.reindex(range(6), method='ffill')\n",
        "print(obj4)"
      ],
      "metadata": {
        "colab": {
          "base_uri": "https://localhost:8080/"
        },
        "id": "Roh72heHe9Gg",
        "outputId": "5182c22e-c7f8-4b10-b01d-50cc2d679012"
      },
      "execution_count": 22,
      "outputs": [
        {
          "output_type": "stream",
          "name": "stdout",
          "text": [
            "0      blue\n",
            "2    purple\n",
            "4    yellow\n",
            "dtype: object\n",
            "\n",
            "\n",
            "0      blue\n",
            "1      blue\n",
            "2    purple\n",
            "3    purple\n",
            "4    yellow\n",
            "5    yellow\n",
            "dtype: object\n"
          ]
        }
      ]
    },
    {
      "cell_type": "markdown",
      "source": [
        "#删除指定轴上指定值的新对象\n",
        "drop方法需要输入一个索引数组或者列表，丢弃某条轴上的一个或者多个项"
      ],
      "metadata": {
        "id": "-hOPTH--gmNZ"
      }
    },
    {
      "cell_type": "code",
      "source": [
        "obj = pd.Series(np.arange(5,),index=['a','b','c','d','e'])\n",
        "print(obj)\n",
        "\n",
        "print(\"\\ndrop:\",'\\n')\n",
        "print(obj.drop('c'))"
      ],
      "metadata": {
        "colab": {
          "base_uri": "https://localhost:8080/"
        },
        "id": "3FVZqrm7fV1I",
        "outputId": "db0e6224-e430-4658-b10e-2a7fe40f3fb5"
      },
      "execution_count": 23,
      "outputs": [
        {
          "output_type": "stream",
          "name": "stdout",
          "text": [
            "a    0\n",
            "b    1\n",
            "c    2\n",
            "d    3\n",
            "e    4\n",
            "dtype: int64\n",
            "\n",
            "drop: \n",
            "\n",
            "a    0\n",
            "b    1\n",
            "d    3\n",
            "e    4\n",
            "dtype: int64\n"
          ]
        }
      ]
    },
    {
      "cell_type": "markdown",
      "source": [
        "删除列，只需要传入axis=1或者columns参数"
      ],
      "metadata": {
        "id": "WLR1etqqhhH4"
      }
    },
    {
      "cell_type": "code",
      "source": [
        "data = pd.DataFrame(np.arange(16).reshape((4, 4)),index=['Ohio', 'Colorado', 'Utah', 'New York'],columns=['one', 'two', 'three', 'four'])\n",
        "\n",
        "print(data)"
      ],
      "metadata": {
        "colab": {
          "base_uri": "https://localhost:8080/"
        },
        "id": "yCgQUyFXhg14",
        "outputId": "f6960a36-7c09-4ff8-d191-880aefafe123"
      },
      "execution_count": 24,
      "outputs": [
        {
          "output_type": "stream",
          "name": "stdout",
          "text": [
            "          one  two  three  four\n",
            "Ohio        0    1      2     3\n",
            "Colorado    4    5      6     7\n",
            "Utah        8    9     10    11\n",
            "New York   12   13     14    15\n"
          ]
        }
      ]
    },
    {
      "cell_type": "code",
      "source": [
        "data.drop(['one'],axis='columns')"
      ],
      "metadata": {
        "colab": {
          "base_uri": "https://localhost:8080/",
          "height": 175
        },
        "id": "KxGgMV72hGpo",
        "outputId": "f30414d8-3fcb-4747-ccf5-551655d470a0"
      },
      "execution_count": 25,
      "outputs": [
        {
          "output_type": "execute_result",
          "data": {
            "text/plain": [
              "          two  three  four\n",
              "Ohio        1      2     3\n",
              "Colorado    5      6     7\n",
              "Utah        9     10    11\n",
              "New York   13     14    15"
            ],
            "text/html": [
              "\n",
              "  <div id=\"df-057b17d6-877f-4b0e-bbc3-fe907e458933\">\n",
              "    <div class=\"colab-df-container\">\n",
              "      <div>\n",
              "<style scoped>\n",
              "    .dataframe tbody tr th:only-of-type {\n",
              "        vertical-align: middle;\n",
              "    }\n",
              "\n",
              "    .dataframe tbody tr th {\n",
              "        vertical-align: top;\n",
              "    }\n",
              "\n",
              "    .dataframe thead th {\n",
              "        text-align: right;\n",
              "    }\n",
              "</style>\n",
              "<table border=\"1\" class=\"dataframe\">\n",
              "  <thead>\n",
              "    <tr style=\"text-align: right;\">\n",
              "      <th></th>\n",
              "      <th>two</th>\n",
              "      <th>three</th>\n",
              "      <th>four</th>\n",
              "    </tr>\n",
              "  </thead>\n",
              "  <tbody>\n",
              "    <tr>\n",
              "      <th>Ohio</th>\n",
              "      <td>1</td>\n",
              "      <td>2</td>\n",
              "      <td>3</td>\n",
              "    </tr>\n",
              "    <tr>\n",
              "      <th>Colorado</th>\n",
              "      <td>5</td>\n",
              "      <td>6</td>\n",
              "      <td>7</td>\n",
              "    </tr>\n",
              "    <tr>\n",
              "      <th>Utah</th>\n",
              "      <td>9</td>\n",
              "      <td>10</td>\n",
              "      <td>11</td>\n",
              "    </tr>\n",
              "    <tr>\n",
              "      <th>New York</th>\n",
              "      <td>13</td>\n",
              "      <td>14</td>\n",
              "      <td>15</td>\n",
              "    </tr>\n",
              "  </tbody>\n",
              "</table>\n",
              "</div>\n",
              "      <button class=\"colab-df-convert\" onclick=\"convertToInteractive('df-057b17d6-877f-4b0e-bbc3-fe907e458933')\"\n",
              "              title=\"Convert this dataframe to an interactive table.\"\n",
              "              style=\"display:none;\">\n",
              "        \n",
              "  <svg xmlns=\"http://www.w3.org/2000/svg\" height=\"24px\"viewBox=\"0 0 24 24\"\n",
              "       width=\"24px\">\n",
              "    <path d=\"M0 0h24v24H0V0z\" fill=\"none\"/>\n",
              "    <path d=\"M18.56 5.44l.94 2.06.94-2.06 2.06-.94-2.06-.94-.94-2.06-.94 2.06-2.06.94zm-11 1L8.5 8.5l.94-2.06 2.06-.94-2.06-.94L8.5 2.5l-.94 2.06-2.06.94zm10 10l.94 2.06.94-2.06 2.06-.94-2.06-.94-.94-2.06-.94 2.06-2.06.94z\"/><path d=\"M17.41 7.96l-1.37-1.37c-.4-.4-.92-.59-1.43-.59-.52 0-1.04.2-1.43.59L10.3 9.45l-7.72 7.72c-.78.78-.78 2.05 0 2.83L4 21.41c.39.39.9.59 1.41.59.51 0 1.02-.2 1.41-.59l7.78-7.78 2.81-2.81c.8-.78.8-2.07 0-2.86zM5.41 20L4 18.59l7.72-7.72 1.47 1.35L5.41 20z\"/>\n",
              "  </svg>\n",
              "      </button>\n",
              "      \n",
              "  <style>\n",
              "    .colab-df-container {\n",
              "      display:flex;\n",
              "      flex-wrap:wrap;\n",
              "      gap: 12px;\n",
              "    }\n",
              "\n",
              "    .colab-df-convert {\n",
              "      background-color: #E8F0FE;\n",
              "      border: none;\n",
              "      border-radius: 50%;\n",
              "      cursor: pointer;\n",
              "      display: none;\n",
              "      fill: #1967D2;\n",
              "      height: 32px;\n",
              "      padding: 0 0 0 0;\n",
              "      width: 32px;\n",
              "    }\n",
              "\n",
              "    .colab-df-convert:hover {\n",
              "      background-color: #E2EBFA;\n",
              "      box-shadow: 0px 1px 2px rgba(60, 64, 67, 0.3), 0px 1px 3px 1px rgba(60, 64, 67, 0.15);\n",
              "      fill: #174EA6;\n",
              "    }\n",
              "\n",
              "    [theme=dark] .colab-df-convert {\n",
              "      background-color: #3B4455;\n",
              "      fill: #D2E3FC;\n",
              "    }\n",
              "\n",
              "    [theme=dark] .colab-df-convert:hover {\n",
              "      background-color: #434B5C;\n",
              "      box-shadow: 0px 1px 3px 1px rgba(0, 0, 0, 0.15);\n",
              "      filter: drop-shadow(0px 1px 2px rgba(0, 0, 0, 0.3));\n",
              "      fill: #FFFFFF;\n",
              "    }\n",
              "  </style>\n",
              "\n",
              "      <script>\n",
              "        const buttonEl =\n",
              "          document.querySelector('#df-057b17d6-877f-4b0e-bbc3-fe907e458933 button.colab-df-convert');\n",
              "        buttonEl.style.display =\n",
              "          google.colab.kernel.accessAllowed ? 'block' : 'none';\n",
              "\n",
              "        async function convertToInteractive(key) {\n",
              "          const element = document.querySelector('#df-057b17d6-877f-4b0e-bbc3-fe907e458933');\n",
              "          const dataTable =\n",
              "            await google.colab.kernel.invokeFunction('convertToInteractive',\n",
              "                                                     [key], {});\n",
              "          if (!dataTable) return;\n",
              "\n",
              "          const docLinkHtml = 'Like what you see? Visit the ' +\n",
              "            '<a target=\"_blank\" href=https://colab.research.google.com/notebooks/data_table.ipynb>data table notebook</a>'\n",
              "            + ' to learn more about interactive tables.';\n",
              "          element.innerHTML = '';\n",
              "          dataTable['output_type'] = 'display_data';\n",
              "          await google.colab.output.renderOutput(dataTable, element);\n",
              "          const docLink = document.createElement('div');\n",
              "          docLink.innerHTML = docLinkHtml;\n",
              "          element.appendChild(docLink);\n",
              "        }\n",
              "      </script>\n",
              "    </div>\n",
              "  </div>\n",
              "  "
            ]
          },
          "metadata": {},
          "execution_count": 25
        }
      ]
    },
    {
      "cell_type": "markdown",
      "source": [
        "- [ ] $\\quad{}$inplace参数控制销毁所有被删除的数据"
      ],
      "metadata": {
        "id": "U7h7O-RiiK5U"
      }
    },
    {
      "cell_type": "code",
      "source": [
        "print(obj.drop('c',inplace=True))"
      ],
      "metadata": {
        "colab": {
          "base_uri": "https://localhost:8080/"
        },
        "id": "0YGwIQXFh8YZ",
        "outputId": "f02f9c25-1d19-4c0b-c453-1ad444bd58df"
      },
      "execution_count": 26,
      "outputs": [
        {
          "output_type": "stream",
          "name": "stdout",
          "text": [
            "None\n"
          ]
        }
      ]
    },
    {
      "cell_type": "code",
      "source": [
        "print(obj)\n",
        "#可以看到已经删除成功，而上面删除操作返回none，已被销毁。"
      ],
      "metadata": {
        "colab": {
          "base_uri": "https://localhost:8080/"
        },
        "id": "Ot3oCnbEiTsf",
        "outputId": "760f4198-5c9a-4eef-dfc6-fc0d6f79c7e4"
      },
      "execution_count": 27,
      "outputs": [
        {
          "output_type": "stream",
          "name": "stdout",
          "text": [
            "a    0\n",
            "b    1\n",
            "d    3\n",
            "e    4\n",
            "dtype: int64\n"
          ]
        }
      ]
    },
    {
      "cell_type": "markdown",
      "source": [
        "#索引切片操作\n",
        "于python切片不同，利用标签对索引切片是包含末端的"
      ],
      "metadata": {
        "id": "dsaEpZGHixM6"
      }
    },
    {
      "cell_type": "code",
      "source": [
        "obj = pd.Series(np.arange(5,),index=['a','b','c','d','e'])\n",
        "print(obj['b':'c'])\n",
        "print('\\n')\n",
        "print(obj[0:1])\n",
        "print('\\n')\n",
        "print(obj[3])"
      ],
      "metadata": {
        "colab": {
          "base_uri": "https://localhost:8080/"
        },
        "id": "HAmV02oRicnK",
        "outputId": "ba650f95-99c8-4d53-ac0c-c48b44bc2252"
      },
      "execution_count": 28,
      "outputs": [
        {
          "output_type": "stream",
          "name": "stdout",
          "text": [
            "b    1\n",
            "c    2\n",
            "dtype: int64\n",
            "\n",
            "\n",
            "a    0\n",
            "dtype: int64\n",
            "\n",
            "\n",
            "3\n"
          ]
        }
      ]
    },
    {
      "cell_type": "markdown",
      "source": [
        "用切片对Series的相应部分进行设置"
      ],
      "metadata": {
        "id": "uJZd6RjXNxhd"
      }
    },
    {
      "cell_type": "code",
      "source": [
        "obj['b','c']=5\n",
        "print(obj)"
      ],
      "metadata": {
        "colab": {
          "base_uri": "https://localhost:8080/"
        },
        "id": "EJjWh3_KjFqP",
        "outputId": "b3bd4016-d756-4cfc-f807-2f0aa61832a7"
      },
      "execution_count": 30,
      "outputs": [
        {
          "output_type": "stream",
          "name": "stdout",
          "text": [
            "a    0\n",
            "b    5\n",
            "c    5\n",
            "d    3\n",
            "e    4\n",
            "dtype: int64\n"
          ]
        }
      ]
    },
    {
      "cell_type": "code",
      "source": [
        "print(data[:2])\n",
        "#切片类型选取数据，行列页顺序\n",
        "print(data[data['three'] > 5])\n",
        "#布尔类型数组选取数据"
      ],
      "metadata": {
        "colab": {
          "base_uri": "https://localhost:8080/"
        },
        "id": "905HxhaUN6VL",
        "outputId": "d69740cb-3a1d-4dee-8df8-92bba328a3b0"
      },
      "execution_count": 31,
      "outputs": [
        {
          "output_type": "stream",
          "name": "stdout",
          "text": [
            "          one  two  three  four\n",
            "Ohio        0    1      2     3\n",
            "Colorado    4    5      6     7\n",
            "          one  two  three  four\n",
            "Colorado    4    5      6     7\n",
            "Utah        8    9     10    11\n",
            "New York   12   13     14    15\n"
          ]
        }
      ]
    },
    {
      "cell_type": "markdown",
      "source": [
        "#用loc和iloc进行索引\n",
        "对于DataFrame的行的标签索引，我引入了特殊的标签运算符loc和iloc。它们可以让你用类似NumPy的标记，使用**轴标签（loc）**或**整数索引（iloc）**，从DataFrame选择行和列的子集。"
      ],
      "metadata": {
        "id": "JSVZvRBYT8IG"
      }
    },
    {
      "cell_type": "code",
      "source": [
        "data.loc['Colorado', ['two', 'three']]\n"
      ],
      "metadata": {
        "colab": {
          "base_uri": "https://localhost:8080/"
        },
        "id": "08XNdW2HOngu",
        "outputId": "58ed2654-c597-4e43-f701-7c5371b6710f"
      },
      "execution_count": 32,
      "outputs": [
        {
          "output_type": "execute_result",
          "data": {
            "text/plain": [
              "two      5\n",
              "three    6\n",
              "Name: Colorado, dtype: int64"
            ]
          },
          "metadata": {},
          "execution_count": 32
        }
      ]
    },
    {
      "cell_type": "markdown",
      "source": [
        "注意输出若是之后列输出且只有一行的时候，行向量会变成列向量输出形式"
      ],
      "metadata": {
        "id": "r9rGqMc3VMWB"
      }
    },
    {
      "cell_type": "code",
      "source": [
        "print(data)\n",
        "print('\\n')\n",
        "print(data.iloc[2, [3, 0, 1]])\n",
        "#通过输入参数，第一个参数为行，后面参数实为输出的index参数\n",
        "print('\\n')\n",
        "print(data.iloc[2])\n",
        "print('\\n')\n",
        "print(data.iloc[[1, 2], [3, 0, 1]])"
      ],
      "metadata": {
        "colab": {
          "base_uri": "https://localhost:8080/"
        },
        "id": "taikaR_tULqm",
        "outputId": "f3ae55ef-afb2-4834-f515-8f66e661b680"
      },
      "execution_count": 34,
      "outputs": [
        {
          "output_type": "stream",
          "name": "stdout",
          "text": [
            "          one  two  three  four\n",
            "Ohio        0    1      2     3\n",
            "Colorado    4    5      6     7\n",
            "Utah        8    9     10    11\n",
            "New York   12   13     14    15\n",
            "\n",
            "\n",
            "four    11\n",
            "one      8\n",
            "two      9\n",
            "Name: Utah, dtype: int64\n",
            "\n",
            "\n",
            "one       8\n",
            "two       9\n",
            "three    10\n",
            "four     11\n",
            "Name: Utah, dtype: int64\n",
            "\n",
            "\n",
            "          four  one  two\n",
            "Colorado     7    4    5\n",
            "Utah        11    8    9\n"
          ]
        }
      ]
    },
    {
      "cell_type": "markdown",
      "source": [
        "iloc和loc函数可以有两个（多个）索引的值"
      ],
      "metadata": {
        "id": "nZhpAjiAVw1q"
      }
    },
    {
      "cell_type": "code",
      "source": [
        "\n",
        "print(data.loc[:'Utah', 'two'])\n",
        "\n",
        "print('\\n')\n",
        "\n",
        "print(data.iloc[:, :3][data.three > 5])"
      ],
      "metadata": {
        "colab": {
          "base_uri": "https://localhost:8080/"
        },
        "id": "NpsH4tjWUbZp",
        "outputId": "ab644986-bd60-4553-9c81-106302e6ce9a"
      },
      "execution_count": 35,
      "outputs": [
        {
          "output_type": "stream",
          "name": "stdout",
          "text": [
            "Ohio        1\n",
            "Colorado    5\n",
            "Utah        9\n",
            "Name: two, dtype: int64\n",
            "\n",
            "\n",
            "          one  two  three\n",
            "Colorado    4    5      6\n",
            "Utah        8    9     10\n",
            "New York   12   13     14\n"
          ]
        }
      ]
    },
    {
      "cell_type": "markdown",
      "source": [
        "#整数索引\n",
        "注意整数索引，整数索引的时候不可以和非整数索引的时候用整数作为位置索引，因为这样会有歧义。"
      ],
      "metadata": {
        "id": "oXvSt_bkXDv5"
      }
    },
    {
      "cell_type": "code",
      "source": [
        "ser2 = pd.Series(np.arange(3.), index=['a', 'b', 'c'])\n",
        "\n",
        "print(ser2[-1])\n",
        "#非整数索引用整数作为位置查找参数就不会产生歧义"
      ],
      "metadata": {
        "colab": {
          "base_uri": "https://localhost:8080/"
        },
        "id": "xSCTXgIDV2-1",
        "outputId": "b047e3e4-860b-4f87-86c2-83bd8d7fe63f"
      },
      "execution_count": 36,
      "outputs": [
        {
          "output_type": "stream",
          "name": "stdout",
          "text": [
            "2.0\n"
          ]
        }
      ]
    },
    {
      "cell_type": "code",
      "source": [
        "s1 = pd.Series([7.3, -2.5, 3.4, 1.5], index=['a', 'c', 'd', 'e'])\n",
        "\n",
        "s2 = pd.Series([-2.1, 3.6, -1.5, 4, 3.1], index=['a', 'c', 'e', 'f', 'g'])\n",
        "\n",
        "print(s1)\n",
        "print('\\n')\n",
        "print(s2)"
      ],
      "metadata": {
        "colab": {
          "base_uri": "https://localhost:8080/"
        },
        "id": "4Ra1rP9NXwVp",
        "outputId": "22a28f64-d76d-44ae-edb5-06f9547d5efc"
      },
      "execution_count": 37,
      "outputs": [
        {
          "output_type": "stream",
          "name": "stdout",
          "text": [
            "a    7.3\n",
            "c   -2.5\n",
            "d    3.4\n",
            "e    1.5\n",
            "dtype: float64\n",
            "a   -2.1\n",
            "c    3.6\n",
            "e   -1.5\n",
            "f    4.0\n",
            "g    3.1\n",
            "dtype: float64\n"
          ]
        }
      ]
    },
    {
      "cell_type": "code",
      "source": [
        "print(s1+s2)"
      ],
      "metadata": {
        "colab": {
          "base_uri": "https://localhost:8080/"
        },
        "id": "gbGnDxQFZg0L",
        "outputId": "3a609a99-61ec-4137-b8bf-b7994a689e3c"
      },
      "execution_count": 38,
      "outputs": [
        {
          "output_type": "stream",
          "name": "stdout",
          "text": [
            "a    5.2\n",
            "c    1.1\n",
            "d    NaN\n",
            "e    0.0\n",
            "f    NaN\n",
            "g    NaN\n",
            "dtype: float64\n"
          ]
        }
      ]
    },
    {
      "cell_type": "markdown",
      "source": [
        "$\\quad{}$pandas最重要的一个功能是，它可以对不同索引的对象进行算术运算。**在将对象相加时，如果存在不同的索引对，则结果的索引就是该索引对的并集**。对于有数据库经验的用户，这就像在索引标签上进行自动外连接。 \\\\\n",
        "$\\quad{}$对于并不是两行都存在数据的行列会**引入缺省值NAN**。DataFrame对象相加，没有共用的列或行标签，结果都会是空"
      ],
      "metadata": {
        "id": "wY4hfpeYZxyy"
      }
    },
    {
      "cell_type": "code",
      "source": [
        "df1 = pd.DataFrame({'A': [1, 2]})\n",
        "df2 = pd.DataFrame({'B': [3, 4]})\n",
        "print(df1)\n",
        "print('\\n')\n",
        "\n",
        "\n",
        "#行列为并集，元素为非交集部分填充NAN\n",
        "print(df1 - df2)\n"
      ],
      "metadata": {
        "colab": {
          "base_uri": "https://localhost:8080/"
        },
        "id": "WtJYF2y9Zmtk",
        "outputId": "a005f743-4892-4ba9-c683-d8952f6d3097"
      },
      "execution_count": 39,
      "outputs": [
        {
          "output_type": "stream",
          "name": "stdout",
          "text": [
            "   A\n",
            "0  1\n",
            "1  2\n",
            "\n",
            "\n",
            "    A   B\n",
            "0 NaN NaN\n",
            "1 NaN NaN\n"
          ]
        }
      ]
    },
    {
      "cell_type": "markdown",
      "source": [
        "#DataFrame的广播机制\n",
        "- 跟不同维度的NumPy数组一样，DataFrame和Series之间算术运算也是有明确规定的。先来看一个具有启发性的例子，计算一个二维数组与其某行之间的差。 \\\\\n",
        "- 当我们从arr减去arr[0]，每一行都会执行这个操作。这就叫做广播（broadcasting），附录A将对此进行详细讲解。DataFrame和Series之间的运算差不多也是如此。"
      ],
      "metadata": {
        "id": "6sqt2AcCbUov"
      }
    },
    {
      "cell_type": "code",
      "source": [
        "arr = np.arange(12.).reshape((3, 4))\n",
        "print(arr)\n",
        "print('\\n')\n",
        "print(\"arr[0]\",arr[0])\n",
        "print('\\n')\n",
        "#broadcasting\n",
        "print(arr - arr[0])"
      ],
      "metadata": {
        "colab": {
          "base_uri": "https://localhost:8080/"
        },
        "id": "N5ZK3XZFbFt3",
        "outputId": "fec25d7e-a730-4e1a-949b-37be2725a5cc"
      },
      "execution_count": 41,
      "outputs": [
        {
          "output_type": "stream",
          "name": "stdout",
          "text": [
            "[[ 0.  1.  2.  3.]\n",
            " [ 4.  5.  6.  7.]\n",
            " [ 8.  9. 10. 11.]]\n",
            "\n",
            "\n",
            "arr[0] [0. 1. 2. 3.]\n",
            "\n",
            "\n",
            "[[0. 0. 0. 0.]\n",
            " [4. 4. 4. 4.]\n",
            " [8. 8. 8. 8.]]\n"
          ]
        }
      ]
    },
    {
      "cell_type": "markdown",
      "source": [
        "#DataFrame的函数应用和映射\n",
        "NumPy的ufuncs（元素级数组方法）也可用于操作pandas对象："
      ],
      "metadata": {
        "id": "naNkomVlcNJA"
      }
    },
    {
      "cell_type": "code",
      "source": [
        "frame = pd.DataFrame(np.random.randn(4, 3), columns=list('bde'),index=['Utah', 'Ohio', 'Texas', 'Oregon'])\n",
        "\n",
        "print(frame)\n",
        "print('\\n')\n",
        "print(np.abs(frame))\n"
      ],
      "metadata": {
        "colab": {
          "base_uri": "https://localhost:8080/"
        },
        "id": "FJARAsVXb4Dd",
        "outputId": "df35a530-f860-4db8-8b61-101cf31c603a"
      },
      "execution_count": 43,
      "outputs": [
        {
          "output_type": "stream",
          "name": "stdout",
          "text": [
            "               b         d         e\n",
            "Utah   -1.465882 -0.199454  0.927401\n",
            "Ohio   -0.311030  0.049118  0.645464\n",
            "Texas   0.903245  0.960516  1.472671\n",
            "Oregon  0.087308  1.033520  0.443377\n",
            "\n",
            "\n",
            "               b         d         e\n",
            "Utah    1.465882  0.199454  0.927401\n",
            "Ohio    0.311030  0.049118  0.645464\n",
            "Texas   0.903245  0.960516  1.472671\n",
            "Oregon  0.087308  1.033520  0.443377\n"
          ]
        }
      ]
    },
    {
      "cell_type": "markdown",
      "source": [
        "另一个常见的操作是，将函数应用到**由各列或行所形成的一维数组**上。DataFrame的**apply方法**即可实现此功能"
      ],
      "metadata": {
        "id": "pOZyhXMLcs-c"
      }
    },
    {
      "cell_type": "code",
      "source": [
        "f = lambda x: x.max() - x.min()\n",
        "\n",
        "frame.apply(f)\n"
      ],
      "metadata": {
        "colab": {
          "base_uri": "https://localhost:8080/"
        },
        "id": "htBbYithcoYX",
        "outputId": "d08084d7-c0c9-4a51-f253-7646f75a2307"
      },
      "execution_count": 44,
      "outputs": [
        {
          "output_type": "execute_result",
          "data": {
            "text/plain": [
              "b    2.369126\n",
              "d    1.232974\n",
              "e    1.029294\n",
              "dtype: float64"
            ]
          },
          "metadata": {},
          "execution_count": 44
        }
      ]
    },
    {
      "cell_type": "code",
      "source": [
        "#应用到列名的时候需要加入axis=1参数或者下例表示\n",
        "frame.apply(f, axis='columns')"
      ],
      "metadata": {
        "id": "QQaaWKBjc2KQ"
      },
      "execution_count": null,
      "outputs": []
    },
    {
      "cell_type": "markdown",
      "source": [
        "- 元素级的Python函数也是可以用的。假如你想得到frame中各个浮点值的格式化字符串，使用applymap即可"
      ],
      "metadata": {
        "id": "0SN6DOPldRTN"
      }
    },
    {
      "cell_type": "code",
      "source": [
        "format = lambda x: '%.2f' % x\n",
        "\n",
        "frame.applymap(format)"
      ],
      "metadata": {
        "colab": {
          "base_uri": "https://localhost:8080/",
          "height": 175
        },
        "id": "TVRbMEvadTYh",
        "outputId": "1da61ff0-cc13-4bec-ae33-8ea6ae02496e"
      },
      "execution_count": 45,
      "outputs": [
        {
          "output_type": "execute_result",
          "data": {
            "text/plain": [
              "            b      d     e\n",
              "Utah    -1.47  -0.20  0.93\n",
              "Ohio    -0.31   0.05  0.65\n",
              "Texas    0.90   0.96  1.47\n",
              "Oregon   0.09   1.03  0.44"
            ],
            "text/html": [
              "\n",
              "  <div id=\"df-87f942e8-82a5-48e7-a887-7c3173b02ffd\">\n",
              "    <div class=\"colab-df-container\">\n",
              "      <div>\n",
              "<style scoped>\n",
              "    .dataframe tbody tr th:only-of-type {\n",
              "        vertical-align: middle;\n",
              "    }\n",
              "\n",
              "    .dataframe tbody tr th {\n",
              "        vertical-align: top;\n",
              "    }\n",
              "\n",
              "    .dataframe thead th {\n",
              "        text-align: right;\n",
              "    }\n",
              "</style>\n",
              "<table border=\"1\" class=\"dataframe\">\n",
              "  <thead>\n",
              "    <tr style=\"text-align: right;\">\n",
              "      <th></th>\n",
              "      <th>b</th>\n",
              "      <th>d</th>\n",
              "      <th>e</th>\n",
              "    </tr>\n",
              "  </thead>\n",
              "  <tbody>\n",
              "    <tr>\n",
              "      <th>Utah</th>\n",
              "      <td>-1.47</td>\n",
              "      <td>-0.20</td>\n",
              "      <td>0.93</td>\n",
              "    </tr>\n",
              "    <tr>\n",
              "      <th>Ohio</th>\n",
              "      <td>-0.31</td>\n",
              "      <td>0.05</td>\n",
              "      <td>0.65</td>\n",
              "    </tr>\n",
              "    <tr>\n",
              "      <th>Texas</th>\n",
              "      <td>0.90</td>\n",
              "      <td>0.96</td>\n",
              "      <td>1.47</td>\n",
              "    </tr>\n",
              "    <tr>\n",
              "      <th>Oregon</th>\n",
              "      <td>0.09</td>\n",
              "      <td>1.03</td>\n",
              "      <td>0.44</td>\n",
              "    </tr>\n",
              "  </tbody>\n",
              "</table>\n",
              "</div>\n",
              "      <button class=\"colab-df-convert\" onclick=\"convertToInteractive('df-87f942e8-82a5-48e7-a887-7c3173b02ffd')\"\n",
              "              title=\"Convert this dataframe to an interactive table.\"\n",
              "              style=\"display:none;\">\n",
              "        \n",
              "  <svg xmlns=\"http://www.w3.org/2000/svg\" height=\"24px\"viewBox=\"0 0 24 24\"\n",
              "       width=\"24px\">\n",
              "    <path d=\"M0 0h24v24H0V0z\" fill=\"none\"/>\n",
              "    <path d=\"M18.56 5.44l.94 2.06.94-2.06 2.06-.94-2.06-.94-.94-2.06-.94 2.06-2.06.94zm-11 1L8.5 8.5l.94-2.06 2.06-.94-2.06-.94L8.5 2.5l-.94 2.06-2.06.94zm10 10l.94 2.06.94-2.06 2.06-.94-2.06-.94-.94-2.06-.94 2.06-2.06.94z\"/><path d=\"M17.41 7.96l-1.37-1.37c-.4-.4-.92-.59-1.43-.59-.52 0-1.04.2-1.43.59L10.3 9.45l-7.72 7.72c-.78.78-.78 2.05 0 2.83L4 21.41c.39.39.9.59 1.41.59.51 0 1.02-.2 1.41-.59l7.78-7.78 2.81-2.81c.8-.78.8-2.07 0-2.86zM5.41 20L4 18.59l7.72-7.72 1.47 1.35L5.41 20z\"/>\n",
              "  </svg>\n",
              "      </button>\n",
              "      \n",
              "  <style>\n",
              "    .colab-df-container {\n",
              "      display:flex;\n",
              "      flex-wrap:wrap;\n",
              "      gap: 12px;\n",
              "    }\n",
              "\n",
              "    .colab-df-convert {\n",
              "      background-color: #E8F0FE;\n",
              "      border: none;\n",
              "      border-radius: 50%;\n",
              "      cursor: pointer;\n",
              "      display: none;\n",
              "      fill: #1967D2;\n",
              "      height: 32px;\n",
              "      padding: 0 0 0 0;\n",
              "      width: 32px;\n",
              "    }\n",
              "\n",
              "    .colab-df-convert:hover {\n",
              "      background-color: #E2EBFA;\n",
              "      box-shadow: 0px 1px 2px rgba(60, 64, 67, 0.3), 0px 1px 3px 1px rgba(60, 64, 67, 0.15);\n",
              "      fill: #174EA6;\n",
              "    }\n",
              "\n",
              "    [theme=dark] .colab-df-convert {\n",
              "      background-color: #3B4455;\n",
              "      fill: #D2E3FC;\n",
              "    }\n",
              "\n",
              "    [theme=dark] .colab-df-convert:hover {\n",
              "      background-color: #434B5C;\n",
              "      box-shadow: 0px 1px 3px 1px rgba(0, 0, 0, 0.15);\n",
              "      filter: drop-shadow(0px 1px 2px rgba(0, 0, 0, 0.3));\n",
              "      fill: #FFFFFF;\n",
              "    }\n",
              "  </style>\n",
              "\n",
              "      <script>\n",
              "        const buttonEl =\n",
              "          document.querySelector('#df-87f942e8-82a5-48e7-a887-7c3173b02ffd button.colab-df-convert');\n",
              "        buttonEl.style.display =\n",
              "          google.colab.kernel.accessAllowed ? 'block' : 'none';\n",
              "\n",
              "        async function convertToInteractive(key) {\n",
              "          const element = document.querySelector('#df-87f942e8-82a5-48e7-a887-7c3173b02ffd');\n",
              "          const dataTable =\n",
              "            await google.colab.kernel.invokeFunction('convertToInteractive',\n",
              "                                                     [key], {});\n",
              "          if (!dataTable) return;\n",
              "\n",
              "          const docLinkHtml = 'Like what you see? Visit the ' +\n",
              "            '<a target=\"_blank\" href=https://colab.research.google.com/notebooks/data_table.ipynb>data table notebook</a>'\n",
              "            + ' to learn more about interactive tables.';\n",
              "          element.innerHTML = '';\n",
              "          dataTable['output_type'] = 'display_data';\n",
              "          await google.colab.output.renderOutput(dataTable, element);\n",
              "          const docLink = document.createElement('div');\n",
              "          docLink.innerHTML = docLinkHtml;\n",
              "          element.appendChild(docLink);\n",
              "        }\n",
              "      </script>\n",
              "    </div>\n",
              "  </div>\n",
              "  "
            ]
          },
          "metadata": {},
          "execution_count": 45
        }
      ]
    },
    {
      "cell_type": "markdown",
      "source": [
        "- 之所以叫做applymap，是因为Series有一个用于应用元素级函数的map方法："
      ],
      "metadata": {
        "id": "EzCFG7rudbYz"
      }
    },
    {
      "cell_type": "code",
      "source": [
        "frame['e'].map(format)"
      ],
      "metadata": {
        "colab": {
          "base_uri": "https://localhost:8080/"
        },
        "id": "Mlnue92ddVMU",
        "outputId": "c35d16e0-f07c-47e0-d54f-fb8688da7c13"
      },
      "execution_count": 46,
      "outputs": [
        {
          "output_type": "execute_result",
          "data": {
            "text/plain": [
              "Utah      0.93\n",
              "Ohio      0.65\n",
              "Texas     1.47\n",
              "Oregon    0.44\n",
              "Name: e, dtype: object"
            ]
          },
          "metadata": {},
          "execution_count": 46
        }
      ]
    },
    {
      "cell_type": "code",
      "source": [
        ""
      ],
      "metadata": {
        "id": "bbilVxmtdfz6"
      },
      "execution_count": null,
      "outputs": []
    }
  ]
}