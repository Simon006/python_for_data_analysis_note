{
  "nbformat": 4,
  "nbformat_minor": 0,
  "metadata": {
    "colab": {
      "name": "数据分析03_pandas.ipynb",
      "provenance": [],
      "collapsed_sections": [],
      "authorship_tag": "ABX9TyPZRO0XQF9/p4txbIsI4vN0",
      "include_colab_link": true
    },
    "kernelspec": {
      "name": "python3",
      "display_name": "Python 3"
    },
    "language_info": {
      "name": "python"
    }
  },
  "cells": [
    {
      "cell_type": "markdown",
      "metadata": {
        "id": "view-in-github",
        "colab_type": "text"
      },
      "source": [
        "<a href=\"https://colab.research.google.com/github/Simon006/python_for_data_analysis_note/blob/main/%E6%95%B0%E6%8D%AE%E5%88%86%E6%9E%9003_pandas.ipynb\" target=\"_parent\"><img src=\"https://colab.research.google.com/assets/colab-badge.svg\" alt=\"Open In Colab\"/></a>"
      ]
    },
    {
      "cell_type": "markdown",
      "source": [
        "#series\n",
        "Series 是一种类似于以为数组的对象，由一组数据（各种numpy数据类型）以及一组与之相关的数据标签（即索引）组成。索引值由**0~N-1**的证书型索引。可以通过Series的values和index属性获取。"
      ],
      "metadata": {
        "id": "AL5k36gnNDA0"
      }
    },
    {
      "cell_type": "code",
      "execution_count": null,
      "metadata": {
        "colab": {
          "base_uri": "https://localhost:8080/"
        },
        "id": "_dhcjiwPMjfP",
        "outputId": "1121eb24-f12a-4c93-d7f3-2746f224e99a"
      },
      "outputs": [
        {
          "output_type": "stream",
          "name": "stdout",
          "text": [
            "0    4\n",
            "1    7\n",
            "2   -5\n",
            "3    3\n",
            "dtype: int64\n"
          ]
        }
      ],
      "source": [
        "import pandas as pd\n",
        "obj = pd.Series([4,7,-5,3])\n",
        "print(obj)"
      ]
    },
    {
      "cell_type": "code",
      "source": [
        "print(obj.values)\n",
        "print(obj.index)"
      ],
      "metadata": {
        "colab": {
          "base_uri": "https://localhost:8080/"
        },
        "id": "HeJZgg3tM8X2",
        "outputId": "9d3c017f-246b-41ee-c8b3-c95e76667a61"
      },
      "execution_count": null,
      "outputs": [
        {
          "output_type": "stream",
          "name": "stdout",
          "text": [
            "[ 4  7 -5  3]\n",
            "RangeIndex(start=0, stop=4, step=1)\n"
          ]
        }
      ]
    },
    {
      "cell_type": "markdown",
      "source": [
        "- >带标记的索引"
      ],
      "metadata": {
        "id": "WKfIJuqAN-GO"
      }
    },
    {
      "cell_type": "code",
      "source": [
        "obj2 = pd.Series([4,5,6,7],index=['a','b','c','d'])\n",
        "print(obj2.index)\n",
        "print(obj2)\n",
        "\n",
        "#可以通过传入index的键的顺序来改变列表的字典的键顺序"
      ],
      "metadata": {
        "colab": {
          "base_uri": "https://localhost:8080/"
        },
        "id": "yzrPjAp2NzgW",
        "outputId": "7b8fd310-d088-4134-aaba-9b09ab40f079"
      },
      "execution_count": null,
      "outputs": [
        {
          "output_type": "stream",
          "name": "stdout",
          "text": [
            "Index(['a', 'b', 'c', 'd'], dtype='object')\n",
            "a    4\n",
            "b    5\n",
            "c    6\n",
            "d    7\n",
            "dtype: int64\n"
          ]
        }
      ]
    },
    {
      "cell_type": "code",
      "source": [
        "obj[obj>0]"
      ],
      "metadata": {
        "colab": {
          "base_uri": "https://localhost:8080/"
        },
        "id": "cMBdIZCfOWQ8",
        "outputId": "b247f618-f7a7-4ec5-a8a2-edee5bdd8f5b"
      },
      "execution_count": null,
      "outputs": [
        {
          "output_type": "execute_result",
          "data": {
            "text/plain": [
              "0    4\n",
              "1    7\n",
              "3    3\n",
              "dtype: int64"
            ]
          },
          "metadata": {},
          "execution_count": 10
        }
      ]
    },
    {
      "cell_type": "code",
      "source": [
        "import numpy as np\n",
        "np.exp(obj)"
      ],
      "metadata": {
        "colab": {
          "base_uri": "https://localhost:8080/"
        },
        "id": "RcYclPwAOr8r",
        "outputId": "6ce1e9ae-ae8c-4040-9ebb-e6b1f5ecf5d0"
      },
      "execution_count": null,
      "outputs": [
        {
          "output_type": "execute_result",
          "data": {
            "text/plain": [
              "0      54.598150\n",
              "1    1096.633158\n",
              "2       0.006738\n",
              "3      20.085537\n",
              "dtype: float64"
            ]
          },
          "metadata": {},
          "execution_count": 13
        }
      ]
    },
    {
      "cell_type": "markdown",
      "source": [
        "#缺失null\n",
        "pandas的缺失值检测可以用pd.isnull( ),与pd.notnull( )。"
      ],
      "metadata": {
        "id": "nQF3ACblPTWY"
      }
    },
    {
      "cell_type": "markdown",
      "source": [
        "#Series对齐功能\n",
        "Series对齐功能会管局运算的索引标签自动对齐数据。其中每个Series对象本身及其索引都有一个name属性，该属性和pandas其他的关键功能关系非常密切。"
      ],
      "metadata": {
        "id": "MwqSFG7xPock"
      }
    },
    {
      "cell_type": "code",
      "source": [
        "sdata = {'Ohio': 35000, 'Texas': 71000, 'Oregon': 16000, 'Utah': 5000}\n",
        "obj3 = pd.Series(sdata)\n",
        "\n",
        "states = ['California', 'Ohio', 'Oregon', 'Texas']\n",
        "obj4 = pd.Series(sdata, index=states)\n",
        "print(obj3)\n",
        "print(obj4)"
      ],
      "metadata": {
        "colab": {
          "base_uri": "https://localhost:8080/"
        },
        "id": "wu4befl_O1Fr",
        "outputId": "f3b781f0-2813-4d32-9c08-10efb6982c39"
      },
      "execution_count": null,
      "outputs": [
        {
          "output_type": "stream",
          "name": "stdout",
          "text": [
            "Ohio      35000\n",
            "Texas     71000\n",
            "Oregon    16000\n",
            "Utah       5000\n",
            "dtype: int64\n",
            "California        NaN\n",
            "Ohio          35000.0\n",
            "Oregon        16000.0\n",
            "Texas         71000.0\n",
            "dtype: float64\n"
          ]
        }
      ]
    },
    {
      "cell_type": "code",
      "source": [
        "#优秀的合并列表对齐功能\n",
        "a = obj3+obj4\n",
        "print(a)"
      ],
      "metadata": {
        "colab": {
          "base_uri": "https://localhost:8080/"
        },
        "id": "_i1ofUQUQet8",
        "outputId": "68e60d25-ff75-4a35-b710-15645172e8c6"
      },
      "execution_count": null,
      "outputs": [
        {
          "output_type": "stream",
          "name": "stdout",
          "text": [
            "California         NaN\n",
            "Ohio           70000.0\n",
            "Oregon         32000.0\n",
            "Texas         142000.0\n",
            "Utah               NaN\n",
            "dtype: float64\n"
          ]
        }
      ]
    },
    {
      "cell_type": "markdown",
      "source": [
        "#索引值就地更改\n",
        "可以通过赋值的形式更改"
      ],
      "metadata": {
        "id": "n2IOSybfQ2ii"
      }
    },
    {
      "cell_type": "code",
      "source": [
        "print(obj)\n",
        "obj.index = ['Bob', 'Steve', 'Jeff', 'Ryan']\n",
        "print(obj)"
      ],
      "metadata": {
        "colab": {
          "base_uri": "https://localhost:8080/"
        },
        "id": "8-Vm4BSIQm-L",
        "outputId": "3572a902-4c3e-4380-fe79-3805da6afd90"
      },
      "execution_count": null,
      "outputs": [
        {
          "output_type": "stream",
          "name": "stdout",
          "text": [
            "0    4\n",
            "1    7\n",
            "2   -5\n",
            "3    3\n",
            "dtype: int64\n",
            "Bob      4\n",
            "Steve    7\n",
            "Jeff    -5\n",
            "Ryan     3\n",
            "dtype: int64\n"
          ]
        }
      ]
    },
    {
      "cell_type": "markdown",
      "source": [
        "#DataFrame\n",
        "DataFrame是一个表格型的数据结构，它含有一组有序的列，每列可以由不同的值：（数值、字符串、布尔值等）。DataFrame既有行索引也有列索引，它可以被看做由Series组成的字典（共用同一个索引）。DataFrame中的数据是以一个或多个二维块存放的（而不是列表、字典或别的一维数据结构）。\n",
        "\n",
        "- >（1）包括二维ndarray \\\\\n",
        "（2）NumPy结构化/记录数组 \\\\\n",
        "（3）由Series组成的字典  \\\\\n",
        "（4）由列表或者元组组成的列表 \\\\\n",
        "（5）另一个DataFrame \\\\\n"
      ],
      "metadata": {
        "id": "7mGEVZqKRmcR"
      }
    },
    {
      "cell_type": "code",
      "source": [
        "#直接传入一个由等长列表或NumPy数组组成的字典：\n",
        "data = {'state': ['Ohio', 'Ohio', 'Ohio', 'Nevada', 'Nevada', 'Nevada'],\n",
        "        'year': [2000, 2001, 2002, 2001, 2002, 2003],\n",
        "        'pop': [1.5, 1.7, 3.6, 2.4, 2.9, 3.2]}\n",
        "frame = pd.DataFrame(data)"
      ],
      "metadata": {
        "id": "w3GljH1XRgp7"
      },
      "execution_count": null,
      "outputs": []
    },
    {
      "cell_type": "markdown",
      "source": [
        "DataFrame会自动加上索引（跟Series一样），且全部列会被有序排列："
      ],
      "metadata": {
        "id": "mSU8IKRjSYsb"
      }
    },
    {
      "cell_type": "code",
      "source": [
        "print(frame)\n",
        "print(frame.state)"
      ],
      "metadata": {
        "colab": {
          "base_uri": "https://localhost:8080/"
        },
        "id": "X-mUDOQOSOUm",
        "outputId": "40390ef2-5144-4b6e-cf9a-ea18c6075823"
      },
      "execution_count": 25,
      "outputs": [
        {
          "output_type": "stream",
          "name": "stdout",
          "text": [
            "    state  year  pop\n",
            "0    Ohio  2000  1.5\n",
            "1    Ohio  2001  1.7\n",
            "2    Ohio  2002  3.6\n",
            "3  Nevada  2001  2.4\n",
            "4  Nevada  2002  2.9\n",
            "5  Nevada  2003  3.2\n",
            "0      Ohio\n",
            "1      Ohio\n",
            "2      Ohio\n",
            "3    Nevada\n",
            "4    Nevada\n",
            "5    Nevada\n",
            "Name: state, dtype: object\n"
          ]
        }
      ]
    },
    {
      "cell_type": "markdown",
      "source": [
        "#loc方法\n",
        "可以通过loc方法来对行的位置或者名字进行检索"
      ],
      "metadata": {
        "id": "IgRikDNXa6ia"
      }
    },
    {
      "cell_type": "code",
      "source": [
        "#可以通过loc属性访问DataFrame的行\n",
        "frame.loc[4]\n",
        "#注意在修改index索引之后需要用相对应的索引值，例如str来进行索引"
      ],
      "metadata": {
        "id": "bL9mjXGmSavc",
        "colab": {
          "base_uri": "https://localhost:8080/"
        },
        "outputId": "c87bc627-e121-455b-80f2-731d2ebe93ad"
      },
      "execution_count": 27,
      "outputs": [
        {
          "output_type": "execute_result",
          "data": {
            "text/plain": [
              "state    Nevada\n",
              "year       2002\n",
              "pop         2.9\n",
              "Name: 4, dtype: object"
            ]
          },
          "metadata": {},
          "execution_count": 27
        }
      ]
    },
    {
      "cell_type": "code",
      "source": [
        "data = {'state': ['Ohio', 'Ohio', 'Ohio', 'Nevada', 'Nevada', 'Nevada'],\n",
        "        'year': [2000, 2001, 2002, 2001, 2002, 2003],\n",
        "        'pop': [1.5, 1.7, 3.6, 2.4, 2.9, 3.2]}\n",
        "\n",
        "frame2 = pd.DataFrame(data,columns=['year', 'state', 'pop', 'debt'],index=['one', 'two', 'three', 'four','five', 'six'])\n",
        "\n",
        "print(frame2)"
      ],
      "metadata": {
        "colab": {
          "base_uri": "https://localhost:8080/"
        },
        "id": "H_hvmtb8akvG",
        "outputId": "dbffbec1-02bb-4f8e-e94e-4e94e5ef4a83"
      },
      "execution_count": 29,
      "outputs": [
        {
          "output_type": "stream",
          "name": "stdout",
          "text": [
            "       year   state  pop debt\n",
            "one    2000    Ohio  1.5  NaN\n",
            "two    2001    Ohio  1.7  NaN\n",
            "three  2002    Ohio  3.6  NaN\n",
            "four   2001  Nevada  2.4  NaN\n",
            "five   2002  Nevada  2.9  NaN\n",
            "six    2003  Nevada  3.2  NaN\n"
          ]
        }
      ]
    },
    {
      "cell_type": "markdown",
      "source": [
        "#列的赋值\n",
        "可以用向量或者一个标量对列进行赋值"
      ],
      "metadata": {
        "id": "zIHIywxAb1Zb"
      }
    },
    {
      "cell_type": "code",
      "source": [
        "frame2['debt']=12\n",
        "print(frame2)"
      ],
      "metadata": {
        "colab": {
          "base_uri": "https://localhost:8080/"
        },
        "id": "3pAvCPxSbvEb",
        "outputId": "771b4f26-7485-4162-a89c-065a6a323c33"
      },
      "execution_count": 30,
      "outputs": [
        {
          "output_type": "stream",
          "name": "stdout",
          "text": [
            "       year   state  pop  debt\n",
            "one    2000    Ohio  1.5    12\n",
            "two    2001    Ohio  1.7    12\n",
            "three  2002    Ohio  3.6    12\n",
            "four   2001  Nevada  2.4    12\n",
            "five   2002  Nevada  2.9    12\n",
            "six    2003  Nevada  3.2    12\n"
          ]
        }
      ]
    },
    {
      "cell_type": "code",
      "source": [
        "import numpy as np\n",
        "frame2['debt']=np.arange(6,)   \n",
        "#注意使用的是向量\n",
        "print(frame2)"
      ],
      "metadata": {
        "colab": {
          "base_uri": "https://localhost:8080/"
        },
        "id": "IALmEJyFcCfc",
        "outputId": "fc5a64da-0d2e-45a0-b76a-93be3b55eed9"
      },
      "execution_count": 34,
      "outputs": [
        {
          "output_type": "stream",
          "name": "stdout",
          "text": [
            "       year   state  pop  debt\n",
            "one    2000    Ohio  1.5     0\n",
            "two    2001    Ohio  1.7     1\n",
            "three  2002    Ohio  3.6     2\n",
            "four   2001  Nevada  2.4     3\n",
            "five   2002  Nevada  2.9     4\n",
            "six    2003  Nevada  3.2     5\n"
          ]
        }
      ]
    },
    {
      "cell_type": "markdown",
      "source": [
        "#添加列与删除列\n",
        "del用于删除列，添加列的方式可以参考字典添加键值对的方式。\n"
      ],
      "metadata": {
        "id": "lEUq_Ip1cjJS"
      }
    },
    {
      "cell_type": "code",
      "source": [
        "frame2['estern'] = frame2.state=='Ohio'\n",
        "print(frame2)"
      ],
      "metadata": {
        "colab": {
          "base_uri": "https://localhost:8080/"
        },
        "id": "1TnpWq7BcSKS",
        "outputId": "4993f34a-79a4-4965-cbf4-9d86e8e0cb69"
      },
      "execution_count": 43,
      "outputs": [
        {
          "output_type": "stream",
          "name": "stdout",
          "text": [
            "       year   state  pop  debt  estern\n",
            "one    2000    Ohio  1.5   NaN    True\n",
            "two    2001    Ohio  1.7  -1.2    True\n",
            "three  2002    Ohio  3.6   NaN    True\n",
            "four   2001  Nevada  2.4  -1.5   False\n",
            "five   2002  Nevada  2.9  -1.7   False\n",
            "six    2003  Nevada  3.2   NaN   False\n"
          ]
        }
      ]
    },
    {
      "cell_type": "code",
      "source": [
        "val = pd.Series([-1.2, -1.5, -1.7], index=['two', 'four', 'five'])\n",
        "frame2['debt'] = val\n",
        "print(frame2)\n",
        "#注意在定义变量的时候虽然val只有定义了三列的函数，但在修改赋值的时候是对整一列进行了赋值和修改"
      ],
      "metadata": {
        "colab": {
          "base_uri": "https://localhost:8080/"
        },
        "id": "zyIapWIhc4UD",
        "outputId": "88d68947-e45e-4803-a255-3a265a7a27c4"
      },
      "execution_count": 36,
      "outputs": [
        {
          "output_type": "stream",
          "name": "stdout",
          "text": [
            "       year   state  pop  debt  estern\n",
            "one    2000    Ohio  1.5   NaN    True\n",
            "two    2001    Ohio  1.7  -1.2    True\n",
            "three  2002    Ohio  3.6   NaN    True\n",
            "four   2001  Nevada  2.4  -1.5   False\n",
            "five   2002  Nevada  2.9  -1.7   False\n",
            "six    2003  Nevada  3.2   NaN   False\n"
          ]
        }
      ]
    },
    {
      "cell_type": "code",
      "source": [
        "#删除列方法 del\n",
        "del frame2['estern']\n",
        "print(frame2)"
      ],
      "metadata": {
        "colab": {
          "base_uri": "https://localhost:8080/"
        },
        "id": "Upromw5ndHZ0",
        "outputId": "bc4fbbb8-b1b6-4679-cb6d-3777450b75fc"
      },
      "execution_count": 44,
      "outputs": [
        {
          "output_type": "stream",
          "name": "stdout",
          "text": [
            "       year   state  pop  debt\n",
            "one    2000    Ohio  1.5   NaN\n",
            "two    2001    Ohio  1.7  -1.2\n",
            "three  2002    Ohio  3.6   NaN\n",
            "four   2001  Nevada  2.4  -1.5\n",
            "five   2002  Nevada  2.9  -1.7\n",
            "six    2003  Nevada  3.2   NaN\n"
          ]
        }
      ]
    },
    {
      "cell_type": "code",
      "source": [
        "print(frame2.loc['six'])\n",
        "#并不可以del loc调取出来的行"
      ],
      "metadata": {
        "colab": {
          "base_uri": "https://localhost:8080/"
        },
        "id": "aR8xkolRd2gt",
        "outputId": "a363f7e5-1be7-480a-d73b-b4e5c75573af"
      },
      "execution_count": 46,
      "outputs": [
        {
          "output_type": "stream",
          "name": "stdout",
          "text": [
            "year       2003\n",
            "state    Nevada\n",
            "pop         3.2\n",
            "debt        NaN\n",
            "Name: six, dtype: object\n"
          ]
        }
      ]
    },
    {
      "cell_type": "markdown",
      "source": [
        "#转置\n",
        "DataFrame的转置和NumPy转置类似。\n"
      ],
      "metadata": {
        "id": "2h_pkDvqfWmj"
      }
    },
    {
      "cell_type": "code",
      "source": [
        "pop = {'Nevada': {2001: 2.4, 2002: 2.9},'Ohio': {2000: 1.5, 2001: 1.7, 2002: 3.6}}\n",
        "frame3 = pd.DataFrame(pop)\n",
        "\n",
        "print(frame3)\n",
        "\n",
        "print('\\n')\n",
        "print(\"transpose frame 3\")\n",
        "print('\\n')\n",
        "print(frame3.T)\n"
      ],
      "metadata": {
        "colab": {
          "base_uri": "https://localhost:8080/"
        },
        "id": "Inup3OgSe0wR",
        "outputId": "519d48e0-5e68-4140-d3cb-f258421d1eaf"
      },
      "execution_count": 50,
      "outputs": [
        {
          "output_type": "stream",
          "name": "stdout",
          "text": [
            "      Nevada  Ohio\n",
            "2001     2.4   1.7\n",
            "2002     2.9   3.6\n",
            "2000     NaN   1.5\n",
            "\n",
            "\n",
            "transpose frame 3\n",
            "\n",
            "\n",
            "        2001  2002  2000\n",
            "Nevada   2.4   2.9   NaN\n",
            "Ohio     1.7   3.6   1.5\n"
          ]
        }
      ]
    },
    {
      "cell_type": "code",
      "source": [
        ""
      ],
      "metadata": {
        "id": "_ltKGTG2fV3m"
      },
      "execution_count": null,
      "outputs": []
    }
  ]
}